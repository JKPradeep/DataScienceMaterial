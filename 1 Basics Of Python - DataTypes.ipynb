{
 "cells": [
  {
   "cell_type": "markdown",
   "metadata": {},
   "source": [
    "# Python\n",
    "* Python language is Case Sensitive. \n",
    "* Open source programming language.\n",
    "* Step to Step executor. \n",
    "* Used for Web Development, Testing, Data Analysis. \n",
    "* Editor like Anaconda(Jupiter), pycharm ..... - Here we use Jupiter.\n",
    "* Python reads everything as <b>object</b>. \n",
    "* Here no curly braces, only <b>indentation (4 spaces)</b>\n",
    "\n",
    "### Basics Of Python\n",
    "\n",
    "///////////////////////\n",
    "\n",
    "### Topics Covered\n",
    "- Jupyter NoteBook\n",
    "- Comments\n",
    "- <b>Variable Assignment</b>\n",
    "- Dynamic Way of Printing\n",
    "\n",
    "- <b>Integers</b> \n",
    "  - Arithmetic Operations\n",
    "  - Logical Operators\n",
    "\n",
    "- <b>Strings</b>\n",
    "- Type Casting\n",
    "- Indexing and <b>Slicing</b> Operator\n",
    "\n",
    "- <b>Boolean Variables</b>\n",
    "\n",
    "<b>Data Structures</b>\n",
    "- <b>List []</b>\n",
    "- <b>SET {}</b>\n",
    "- <b>Dictonaries {key : value}</b>\n",
    "- <b>Tuples()</b>\n",
    "\n",
    "<b>BuiltIn Functions & Methods</b>\n",
    "<b>Swapping Program</b>\n",
    "\n",
    "////////////////////////////////"
   ]
  },
  {
   "cell_type": "markdown",
   "metadata": {},
   "source": [
    "#### Jupyter NoteBook\n",
    "- Here Each Box is One Cell\n",
    "- Jupyter NoteBook is a Interactive Console Application"
   ]
  },
  {
   "cell_type": "code",
   "execution_count": 1,
   "metadata": {},
   "outputs": [
    {
     "data": {
      "text/plain": [
       "'\\nCode:\\nShift + Enter -->  Move to Next Cell / Create New cell\\nEsc After A --> New Cells\\n\\nCtrl + Enter --> Run the Cell\\nKernel is like a Compiler \\nJupyter NoteBook Struck --> Restart the Kernel \\n\\nMarkdown:\\n# MainHeading\\n## SubHeading\\n### SubsubHeading\\n#### ....\\n\\n'"
      ]
     },
     "execution_count": 1,
     "metadata": {},
     "output_type": "execute_result"
    }
   ],
   "source": [
    "'''\n",
    "Code:\n",
    "Shift + Enter -->  Move to Next Cell / Create New cell\n",
    "Esc After A --> New Cells\n",
    "\n",
    "Ctrl + Enter --> Run the Cell\n",
    "Kernel is like a Compiler \n",
    "Jupyter NoteBook Struck --> Restart the Kernel \n",
    "\n",
    "Markdown:\n",
    "# MainHeading\n",
    "## SubHeading\n",
    "### SubsubHeading\n",
    "#### ....\n",
    "\n",
    "'''\n"
   ]
  },
  {
   "cell_type": "code",
   "execution_count": 2,
   "metadata": {
    "scrolled": false
   },
   "outputs": [
    {
     "data": {
      "text/plain": [
       "' Shortcut: Inbuit function :- functionName**Here press Shift+Tab**() -  To know about function'"
      ]
     },
     "execution_count": 2,
     "metadata": {},
     "output_type": "execute_result"
    }
   ],
   "source": [
    "''' Shortcut: Inbuit function :- functionName**Here press Shift+Tab**() -  To know about function'''"
   ]
  },
  {
   "cell_type": "code",
   "execution_count": 1,
   "metadata": {},
   "outputs": [
    {
     "data": {
      "text/plain": [
       "' Shortcut for String Inbuilt Functions()- StringName.TAB Button '"
      ]
     },
     "execution_count": 1,
     "metadata": {},
     "output_type": "execute_result"
    }
   ],
   "source": [
    "''' Shortcut for String Inbuilt Functions()- StringName.TAB Button '''\n",
    "# mystr.                 Similary for all things (sets, lists, dictionaries, math.......)"
   ]
  },
  {
   "cell_type": "markdown",
   "metadata": {},
   "source": [
    "#### Comments"
   ]
  },
  {
   "cell_type": "code",
   "execution_count": 3,
   "metadata": {
    "scrolled": true
   },
   "outputs": [
    {
     "data": {
      "text/plain": [
       "' Multile Line Comments '"
      ]
     },
     "execution_count": 3,
     "metadata": {},
     "output_type": "execute_result"
    }
   ],
   "source": [
    "''' Multile Line Comments '''"
   ]
  },
  {
   "cell_type": "code",
   "execution_count": 4,
   "metadata": {},
   "outputs": [],
   "source": [
    "# Single Line Comments starts with Hash"
   ]
  },
  {
   "cell_type": "markdown",
   "metadata": {},
   "source": [
    "### Variable Assignment\n",
    "- syntax: var_name = value\n",
    "- No need to define Datatype in python "
   ]
  },
  {
   "cell_type": "code",
   "execution_count": 5,
   "metadata": {},
   "outputs": [
    {
     "name": "stdout",
     "output_type": "stream",
     "text": [
      "10\n"
     ]
    }
   ],
   "source": [
    "a = 10\n",
    "print(a)"
   ]
  },
  {
   "cell_type": "code",
   "execution_count": 6,
   "metadata": {},
   "outputs": [
    {
     "data": {
      "text/plain": [
       "int"
      ]
     },
     "execution_count": 6,
     "metadata": {},
     "output_type": "execute_result"
    }
   ],
   "source": [
    "type(a)"
   ]
  },
  {
   "cell_type": "code",
   "execution_count": 7,
   "metadata": {},
   "outputs": [
    {
     "name": "stdout",
     "output_type": "stream",
     "text": [
      "kasi\n",
      "<class 'str'>\n"
     ]
    },
    {
     "data": {
      "text/plain": [
       "str"
      ]
     },
     "execution_count": 7,
     "metadata": {},
     "output_type": "execute_result"
    }
   ],
   "source": [
    "x = 'kasi'\n",
    "print(x)\n",
    "print(type(x))\n",
    "type(x)"
   ]
  },
  {
   "cell_type": "code",
   "execution_count": 8,
   "metadata": {
    "scrolled": true
   },
   "outputs": [
    {
     "ename": "TypeError",
     "evalue": "cannot unpack non-iterable int object",
     "output_type": "error",
     "traceback": [
      "\u001b[1;31m---------------------------------------------------------------------------\u001b[0m",
      "\u001b[1;31mTypeError\u001b[0m                                 Traceback (most recent call last)",
      "\u001b[1;32m<ipython-input-8-74051bd33a9b>\u001b[0m in \u001b[0;36m<module>\u001b[1;34m\u001b[0m\n\u001b[1;32m----> 1\u001b[1;33m \u001b[0ma\u001b[0m\u001b[1;33m,\u001b[0m\u001b[0mA\u001b[0m \u001b[1;33m=\u001b[0m \u001b[1;36m10\u001b[0m                 \u001b[1;31m# no. of variables = no. of values assigned\u001b[0m\u001b[1;33m\u001b[0m\u001b[1;33m\u001b[0m\u001b[0m\n\u001b[0m",
      "\u001b[1;31mTypeError\u001b[0m: cannot unpack non-iterable int object"
     ]
    }
   ],
   "source": [
    "a,A = 10                 # no. of variables = no. of values assigned"
   ]
  },
  {
   "cell_type": "code",
   "execution_count": 9,
   "metadata": {
    "scrolled": false
   },
   "outputs": [
    {
     "name": "stdout",
     "output_type": "stream",
     "text": [
      "10 2\n"
     ]
    },
    {
     "data": {
      "text/plain": [
       "(10, 2)"
      ]
     },
     "execution_count": 9,
     "metadata": {},
     "output_type": "execute_result"
    }
   ],
   "source": [
    "a,A = 10,2               # Not necessary to declare datatype  & Can be assigned at a time\n",
    "print(a,A)\n",
    "a,A"
   ]
  },
  {
   "cell_type": "code",
   "execution_count": 10,
   "metadata": {},
   "outputs": [
    {
     "name": "stdout",
     "output_type": "stream",
     "text": [
      "12\n",
      "Sum of Value : 12\n"
     ]
    }
   ],
   "source": [
    "z = a + A      # Addition\n",
    "print(z)\n",
    "print(\"Sum of Value :\", z ) # No concatenation / No typecasting"
   ]
  },
  {
   "cell_type": "code",
   "execution_count": 11,
   "metadata": {},
   "outputs": [
    {
     "name": "stdout",
     "output_type": "stream",
     "text": [
      "Rama 6\n"
     ]
    },
    {
     "data": {
      "text/plain": [
       "('Rama', 6)"
      ]
     },
     "execution_count": 11,
     "metadata": {},
     "output_type": "execute_result"
    }
   ],
   "source": [
    "b,B =  6, 'Rama'\n",
    "print(B,b)\n",
    "B,b"
   ]
  },
  {
   "cell_type": "markdown",
   "metadata": {},
   "source": [
    "### Dynamic Way of Printing  -  using{} - .format()"
   ]
  },
  {
   "cell_type": "code",
   "execution_count": 12,
   "metadata": {},
   "outputs": [
    {
     "name": "stdout",
     "output_type": "stream",
     "text": [
      "Hello\n"
     ]
    }
   ],
   "source": [
    "print('Hello')      # function : print() - To display in output Console"
   ]
  },
  {
   "cell_type": "code",
   "execution_count": 13,
   "metadata": {},
   "outputs": [
    {
     "name": "stdout",
     "output_type": "stream",
     "text": [
      "My first name is Pradeep and last name is Jalla\n",
      "My first name is Jalla and last name is Pradeep\n"
     ]
    }
   ],
   "source": [
    "first_name = 'Pradeep'\n",
    "last_name = 'Jalla'\n",
    "print(\"My first name is {} and last name is {}\".format(first_name, last_name)) \n",
    "print(\"My first name is {} and last name is {}\".format(last_name, first_name)) "
   ]
  },
  {
   "cell_type": "code",
   "execution_count": 14,
   "metadata": {
    "scrolled": true
   },
   "outputs": [
    {
     "name": "stdout",
     "output_type": "stream",
     "text": [
      "My first name is Pradeep and last name is Jalla\n"
     ]
    }
   ],
   "source": [
    "print(\"My first name is {FN} and last name is {LN}\".format(LN = last_name, FN = first_name)) "
   ]
  },
  {
   "cell_type": "code",
   "execution_count": 15,
   "metadata": {},
   "outputs": [
    {
     "name": "stdout",
     "output_type": "stream",
     "text": [
      "jan \n",
      "feb \n",
      "march \n",
      "may\n"
     ]
    }
   ],
   "source": [
    "print('jan \\nfeb \\nmarch \\nmay')                 # To display elements in Newline"
   ]
  },
  {
   "cell_type": "code",
   "execution_count": 16,
   "metadata": {},
   "outputs": [
    {
     "name": "stdout",
     "output_type": "stream",
     "text": [
      "jan \tfeb \tmar \tapr\n"
     ]
    }
   ],
   "source": [
    "print('jan \\tfeb \\tmar \\tapr')                   # To display elements with Tab Space"
   ]
  },
  {
   "cell_type": "markdown",
   "metadata": {},
   "source": [
    "### Integers"
   ]
  },
  {
   "cell_type": "markdown",
   "metadata": {},
   "source": [
    "### Arithmetic Operations"
   ]
  },
  {
   "cell_type": "code",
   "execution_count": 17,
   "metadata": {},
   "outputs": [
    {
     "name": "stdout",
     "output_type": "stream",
     "text": [
      "3\n",
      "8\n",
      "3\n",
      "5.0\n",
      "1\n",
      "81\n"
     ]
    }
   ],
   "source": [
    "print(1 + 2)\n",
    "print(2 * 4)\n",
    "print(7 - 4)\n",
    "print(10 / 2)  # Division\n",
    "print(9 % 2)   # Remainder or Modulus\n",
    "print(3 ** 4)  # Power"
   ]
  },
  {
   "cell_type": "code",
   "execution_count": 18,
   "metadata": {},
   "outputs": [
    {
     "name": "stdout",
     "output_type": "stream",
     "text": [
      "7\n",
      "-3\n",
      "10\n",
      "2\n",
      "0.4\n",
      "32\n",
      "39\n",
      "2\n"
     ]
    }
   ],
   "source": [
    "a,b = 2, 5                             \n",
    "print(a+b)\n",
    "print(a-b)\n",
    "print(a*b)\n",
    "print(a%b)\n",
    "print(a/b)\n",
    "print(a**b)\n",
    "print((a+b) + (a**b))  # BODMAS rule\n",
    "print(b // a)          # cofficient  - Floor Division"
   ]
  },
  {
   "cell_type": "code",
   "execution_count": 19,
   "metadata": {},
   "outputs": [
    {
     "name": "stdout",
     "output_type": "stream",
     "text": [
      "<class 'int'>\n",
      "<class 'float'>\n"
     ]
    }
   ],
   "source": [
    "print(type(1))  # function : type() - To check DataType\n",
    "print(type(1.0))\n"
   ]
  },
  {
   "cell_type": "code",
   "execution_count": 20,
   "metadata": {},
   "outputs": [
    {
     "data": {
      "text/plain": [
       "complex"
      ]
     },
     "execution_count": 20,
     "metadata": {},
     "output_type": "execute_result"
    }
   ],
   "source": [
    "type(1+7j)      # complex No : x+yj format"
   ]
  },
  {
   "cell_type": "code",
   "execution_count": 21,
   "metadata": {},
   "outputs": [],
   "source": [
    "# Reserved Keywords -  int, float, True, False....."
   ]
  },
  {
   "cell_type": "markdown",
   "metadata": {},
   "source": [
    "###   Logical Operators"
   ]
  },
  {
   "cell_type": "code",
   "execution_count": 22,
   "metadata": {},
   "outputs": [
    {
     "name": "stdout",
     "output_type": "stream",
     "text": [
      "Lessthan :  True\n",
      "Greaterthan :  False\n",
      "Equals :  False\n",
      "NotEquals :  True\n",
      "LessthanOrEquals :  True\n",
      "GreaterthanOrEquals :  False\n"
     ]
    }
   ],
   "source": [
    "a,b = 6,8 \n",
    "print(\"Lessthan : \", a<b)\n",
    "print(\"Greaterthan : \",a>b)\n",
    "print(\"Equals : \",a==b)\n",
    "print(\"NotEquals : \",a!=b)\n",
    "print(\"LessthanOrEquals : \",a<=b)\n",
    "print(\"GreaterthanOrEquals : \",a>=b)"
   ]
  },
  {
   "cell_type": "code",
   "execution_count": 23,
   "metadata": {},
   "outputs": [
    {
     "data": {
      "text/plain": [
       "True"
      ]
     },
     "execution_count": 23,
     "metadata": {},
     "output_type": "execute_result"
    }
   ],
   "source": [
    "True and True"
   ]
  },
  {
   "cell_type": "code",
   "execution_count": 24,
   "metadata": {},
   "outputs": [
    {
     "name": "stdout",
     "output_type": "stream",
     "text": [
      "and:  True\n",
      "and:  False\n",
      "and:  False\n",
      "and:  False\n",
      "or:  True\n",
      "or:  True\n",
      "or:  True\n",
      "or:  False\n",
      "not:  True\n",
      "not:  False\n"
     ]
    }
   ],
   "source": [
    "print(\"and: \", True and True)\n",
    "print(\"and: \", True and False)\n",
    "print(\"and: \", False and True)\n",
    "print(\"and: \", False and False)\n",
    "print(\"or: \", True or True)\n",
    "print(\"or: \", True or False)\n",
    "print(\"or: \", False or True)\n",
    "print(\"or: \", False or False)\n",
    "print(\"not: \", not(False))\n",
    "print(\"not: \", not(True))"
   ]
  },
  {
   "cell_type": "code",
   "execution_count": 25,
   "metadata": {},
   "outputs": [
    {
     "data": {
      "text/plain": [
       "False"
      ]
     },
     "execution_count": 25,
     "metadata": {},
     "output_type": "execute_result"
    }
   ],
   "source": [
    "x,y =  10,50\n",
    "\n",
    "x>5 and y<100                 # Here we use 'and'  'or'  'not' =>  Don't use && || !\n",
    "not(x>5 or y<10)              "
   ]
  },
  {
   "cell_type": "markdown",
   "metadata": {},
   "source": [
    "#### Inbuilt function for Integer / Float"
   ]
  },
  {
   "cell_type": "code",
   "execution_count": 26,
   "metadata": {},
   "outputs": [
    {
     "name": "stdout",
     "output_type": "stream",
     "text": [
      "12\n",
      "6\n",
      "5\n"
     ]
    }
   ],
   "source": [
    "a = 11.7897\n",
    "print(round(a))       # function : round() -  .5 to higher digit\n",
    "\n",
    "b = 5.5\n",
    "print(round(b))\n",
    "\n",
    "c = 5.4999\n",
    "print(round(c))"
   ]
  },
  {
   "cell_type": "markdown",
   "metadata": {},
   "source": [
    "### Strings"
   ]
  },
  {
   "cell_type": "code",
   "execution_count": 27,
   "metadata": {},
   "outputs": [
    {
     "name": "stdout",
     "output_type": "stream",
     "text": [
      "hello\n",
      "<class 'str'>\n",
      "Pradeep\n",
      "<class 'str'>\n"
     ]
    }
   ],
   "source": [
    "print('hello')   # String can be defined with Single / double quotes\n",
    "print(type('hello'))\n",
    "\n",
    "p = \"Pradeep\"\n",
    "print(p)\n",
    "print(type(p))"
   ]
  },
  {
   "cell_type": "code",
   "execution_count": 28,
   "metadata": {
    "scrolled": true
   },
   "outputs": [
    {
     "data": {
      "text/plain": [
       "' Jalla Jalla Jalla Jalla Jalla Jalla Jalla Jalla'"
      ]
     },
     "execution_count": 28,
     "metadata": {},
     "output_type": "execute_result"
    }
   ],
   "source": [
    "8 * ' Jalla'   # Here * String Repeats for 8 times"
   ]
  },
  {
   "cell_type": "markdown",
   "metadata": {},
   "source": [
    "#### Type Casting\n",
    "Converting one Datatype to Other Datatype\n",
    "- int()\n",
    "- float()\n",
    "- str()"
   ]
  },
  {
   "cell_type": "code",
   "execution_count": 29,
   "metadata": {},
   "outputs": [
    {
     "name": "stdout",
     "output_type": "stream",
     "text": [
      "Enter First No 3\n",
      "Enter second no 5\n",
      "35\n"
     ]
    }
   ],
   "source": [
    "#add 2 numbers                # Without Type casting, it considers as a String and operating String concatenation\n",
    "s  = input(\"Enter First No \")\n",
    "t = input(\"Enter second no \")\n",
    "y = s + t\n",
    "print(y) "
   ]
  },
  {
   "cell_type": "code",
   "execution_count": 30,
   "metadata": {},
   "outputs": [
    {
     "name": "stdout",
     "output_type": "stream",
     "text": [
      "Enter First No 3\n",
      "Enter second no 5\n",
      "8.0\n"
     ]
    }
   ],
   "source": [
    "#add 2 numbers               # With Type casting, it considers as a int/float and performs Arithmetic Operation       \n",
    "s  = float(input(\"Enter First No \"))\n",
    "t = int(input(\"Enter second no \"))\n",
    "y = s + t\n",
    "print(y) "
   ]
  },
  {
   "cell_type": "markdown",
   "metadata": {},
   "source": [
    "#### Inbuilt functions for Strings"
   ]
  },
  {
   "cell_type": "code",
   "execution_count": 31,
   "metadata": {},
   "outputs": [
    {
     "data": {
      "text/plain": [
       "12"
      ]
     },
     "execution_count": 31,
     "metadata": {},
     "output_type": "execute_result"
    }
   ],
   "source": [
    "len('Kasi Pradeep')     # function : len() - gives length - Considers Space also"
   ]
  },
  {
   "cell_type": "code",
   "execution_count": 32,
   "metadata": {
    "scrolled": true
   },
   "outputs": [
    {
     "name": "stdout",
     "output_type": "stream",
     "text": [
      "NameJalla Pradeep\n",
      "Jalla Pradeep\n",
      "<class 'str'>\n"
     ]
    }
   ],
   "source": [
    "MyName=input(\"Name\")    # function : input() - To take Input from User  - input() by default gives as String\n",
    "print(MyName)                           \n",
    "print(type(MyName))                      "
   ]
  },
  {
   "cell_type": "code",
   "execution_count": 33,
   "metadata": {},
   "outputs": [
    {
     "name": "stdout",
     "output_type": "stream",
     "text": [
      "age 25\n",
      "25\n",
      "<class 'str'>\n"
     ]
    }
   ],
   "source": [
    "age  = input(\"age \") \n",
    "print(age)\n",
    "print(type(age))"
   ]
  },
  {
   "cell_type": "code",
   "execution_count": 34,
   "metadata": {
    "scrolled": true
   },
   "outputs": [
    {
     "name": "stdout",
     "output_type": "stream",
     "text": [
      "age 25\n",
      "25\n",
      "<class 'int'>\n"
     ]
    }
   ],
   "source": [
    "age2  = int(input(\"age \"))  # TypeCasting -Here we converted String to Int .. int() \n",
    "print(age2)\n",
    "print(type(age2))"
   ]
  },
  {
   "cell_type": "code",
   "execution_count": 35,
   "metadata": {},
   "outputs": [
    {
     "data": {
      "text/plain": [
       "'Jalla Pradeep'"
      ]
     },
     "execution_count": 35,
     "metadata": {},
     "output_type": "execute_result"
    }
   ],
   "source": [
    "FirstName = \"Jalla\"\n",
    "LastName = \"Pradeep\"\n",
    "FirstName +\" \"+ LastName    # String Concatenation - using  \"+\" symbol"
   ]
  },
  {
   "cell_type": "markdown",
   "metadata": {},
   "source": [
    "#### Indexing and Slicing Operator\n",
    "- Slicing operator - [0 : n-1] - Size n \n",
    "- Start value(Included) : End value(Not Included)"
   ]
  },
  {
   "cell_type": "code",
   "execution_count": 36,
   "metadata": {},
   "outputs": [
    {
     "name": "stdout",
     "output_type": "stream",
     "text": [
      "s\n",
      " \n",
      "p\n",
      "e\n",
      "kasi Pradeep\n",
      "kasi Pradeep\n",
      "i Pradeep\n"
     ]
    },
    {
     "data": {
      "text/plain": [
       "'rad'"
      ]
     },
     "execution_count": 36,
     "metadata": {},
     "output_type": "execute_result"
    }
   ],
   "source": [
    "name=\"kasi Pradeep\"           # Index - Starts with 0,1,2..... Considering 'Space' also  -  Forward Direction\n",
    "\n",
    "print(name[2])\n",
    "print(name[4])       # Output : '' (space) \n",
    "print(name[-1])               # Index - Starts with -1,-2..... Considering 'Space' also  -  Backward Direction\n",
    "print(name[-2]) \n",
    "print(name[::])               # Slicing operator    0,1,2.......\n",
    "print(name[:])                # Same as [::]\n",
    "print(name[3:])               # Index value starts from 3 (included) upto end\n",
    "name[:8]                      # Index value starts from 0 and ends with 7(not included)\n",
    "name[6:9]     #(start value Included  and doesnt include last value) - Here Index Value starts with 6 and ends with 8 "
   ]
  },
  {
   "cell_type": "code",
   "execution_count": 37,
   "metadata": {
    "scrolled": true
   },
   "outputs": [
    {
     "name": "stdout",
     "output_type": "stream",
     "text": [
      "kasi Pradeep\n",
      "KASI PRADEEP\n",
      "kasi Pradeep\n",
      "kasi pradeep\n"
     ]
    }
   ],
   "source": [
    "print(name)\n",
    "print(name.upper())        #  .upper() function - To change String to All capital Letters  [class.method()]\n",
    "print(name)\n",
    "print(name.lower())       #   .lower() function - To change String to All lower Letters"
   ]
  },
  {
   "cell_type": "code",
   "execution_count": 38,
   "metadata": {
    "scrolled": true
   },
   "outputs": [
    {
     "name": "stdout",
     "output_type": "stream",
     "text": [
      "[' ', ' ', ' ', ' ', \"'\", '.', 'H', 'I', 'P', 'a', 'a', 'd', 'e', 'e', 'e', 'e', 'g', 'h', 'i', 'l', 'l', 'l', 'm', 'n', 'n', 'o', 'o', 'p', 'p', 'r', 'r', 't', 'y']\n",
      "Hello Pradeep. I'm learnig python\n",
      "['Hello', 'Pradeep.', \"I'm\", 'learnig', 'python']\n"
     ]
    },
    {
     "data": {
      "text/plain": [
       "\"Hello Pradeep. I'm learnig python\""
      ]
     },
     "execution_count": 38,
     "metadata": {},
     "output_type": "execute_result"
    }
   ],
   "source": [
    "z = \"Hello Pradeep. I'm learnig python\"      \n",
    "\n",
    "print(sorted(z))                    # function : sorted() - Here In String, Sorted means splits as per character\n",
    "print(z)\n",
    "print(z.split())                    #  .split() function - Split the string with Space \n",
    "''.join(z)                          #  .join() function  - joined again with space\n",
    "\n"
   ]
  },
  {
   "cell_type": "code",
   "execution_count": 39,
   "metadata": {
    "scrolled": true
   },
   "outputs": [
    {
     "name": "stdout",
     "output_type": "stream",
     "text": [
      "['Hello Pradee', \". I'm learnig \", 'ython']\n"
     ]
    },
    {
     "data": {
      "text/plain": [
       "\"Hello Pradeep. I'm learnig python\""
      ]
     },
     "execution_count": 39,
     "metadata": {},
     "output_type": "execute_result"
    }
   ],
   "source": [
    "s = \"Hello Pradeep. I'm learnig python\"\n",
    "\n",
    "k =s.split(\"p\")          #  .split() function - Here Split the string with 'p' \n",
    "print(k)\n",
    "'p'.join(k)              #  .join() function  - joined again with 'p'"
   ]
  },
  {
   "cell_type": "code",
   "execution_count": 40,
   "metadata": {},
   "outputs": [
    {
     "ename": "AttributeError",
     "evalue": "'str' object has no attribute 'append'",
     "output_type": "error",
     "traceback": [
      "\u001b[1;31m---------------------------------------------------------------------------\u001b[0m",
      "\u001b[1;31mAttributeError\u001b[0m                            Traceback (most recent call last)",
      "\u001b[1;32m<ipython-input-40-52eed6f5141f>\u001b[0m in \u001b[0;36m<module>\u001b[1;34m\u001b[0m\n\u001b[1;32m----> 1\u001b[1;33m \u001b[0mz\u001b[0m\u001b[1;33m.\u001b[0m\u001b[0mappend\u001b[0m\u001b[1;33m(\u001b[0m\u001b[1;34m\"kasi\"\u001b[0m\u001b[1;33m)\u001b[0m         \u001b[1;31m# For String, We can't add i.e., Not changeable => Immutable\u001b[0m\u001b[1;33m\u001b[0m\u001b[1;33m\u001b[0m\u001b[0m\n\u001b[0m",
      "\u001b[1;31mAttributeError\u001b[0m: 'str' object has no attribute 'append'"
     ]
    }
   ],
   "source": [
    "z.append(\"kasi\")         # For String, We can't add i.e., Not changeable => Immutable "
   ]
  },
  {
   "cell_type": "markdown",
   "metadata": {},
   "source": [
    "### Boolean Variables\n",
    "- Boolean Variables are two constant objects False and True.\n",
    "- In Numeric context it is 0 and 1\n"
   ]
  },
  {
   "cell_type": "code",
   "execution_count": 41,
   "metadata": {},
   "outputs": [
    {
     "data": {
      "text/plain": [
       "False"
      ]
     },
     "execution_count": 41,
     "metadata": {},
     "output_type": "execute_result"
    }
   ],
   "source": [
    "False"
   ]
  },
  {
   "cell_type": "code",
   "execution_count": 42,
   "metadata": {},
   "outputs": [
    {
     "ename": "NameError",
     "evalue": "name 'true' is not defined",
     "output_type": "error",
     "traceback": [
      "\u001b[1;31m---------------------------------------------------------------------------\u001b[0m",
      "\u001b[1;31mNameError\u001b[0m                                 Traceback (most recent call last)",
      "\u001b[1;32m<ipython-input-42-724ba28f4a9a>\u001b[0m in \u001b[0;36m<module>\u001b[1;34m\u001b[0m\n\u001b[1;32m----> 1\u001b[1;33m \u001b[0mtrue\u001b[0m\u001b[1;33m\u001b[0m\u001b[1;33m\u001b[0m\u001b[0m\n\u001b[0m",
      "\u001b[1;31mNameError\u001b[0m: name 'true' is not defined"
     ]
    }
   ],
   "source": [
    "true"
   ]
  },
  {
   "cell_type": "code",
   "execution_count": 43,
   "metadata": {},
   "outputs": [
    {
     "data": {
      "text/plain": [
       "True"
      ]
     },
     "execution_count": 43,
     "metadata": {},
     "output_type": "execute_result"
    }
   ],
   "source": [
    "True"
   ]
  },
  {
   "cell_type": "code",
   "execution_count": 44,
   "metadata": {
    "scrolled": true
   },
   "outputs": [
    {
     "name": "stdout",
     "output_type": "stream",
     "text": [
      "<class 'bool'>\n"
     ]
    },
    {
     "data": {
      "text/plain": [
       "bool"
      ]
     },
     "execution_count": 44,
     "metadata": {},
     "output_type": "execute_result"
    }
   ],
   "source": [
    "print(type(False))\n",
    "type(False)"
   ]
  },
  {
   "cell_type": "code",
   "execution_count": 45,
   "metadata": {},
   "outputs": [
    {
     "data": {
      "text/plain": [
       "bool"
      ]
     },
     "execution_count": 45,
     "metadata": {},
     "output_type": "execute_result"
    }
   ],
   "source": [
    "type(True)"
   ]
  },
  {
   "cell_type": "code",
   "execution_count": 46,
   "metadata": {
    "scrolled": true
   },
   "outputs": [
    {
     "name": "stdout",
     "output_type": "stream",
     "text": [
      "Jalla Pradeep\n"
     ]
    },
    {
     "data": {
      "text/plain": [
       "False"
      ]
     },
     "execution_count": 46,
     "metadata": {},
     "output_type": "execute_result"
    }
   ],
   "source": [
    "mystr = 'Jalla Pradeep'\n",
    "print(mystr)\n",
    "mystr.isalnum()"
   ]
  },
  {
   "cell_type": "code",
   "execution_count": 47,
   "metadata": {
    "scrolled": true
   },
   "outputs": [
    {
     "data": {
      "text/plain": [
       "True"
      ]
     },
     "execution_count": 47,
     "metadata": {},
     "output_type": "execute_result"
    }
   ],
   "source": [
    "20 == 20         # Returns Boolean after comparing  --> True"
   ]
  },
  {
   "cell_type": "code",
   "execution_count": 48,
   "metadata": {},
   "outputs": [
    {
     "data": {
      "text/plain": [
       "False"
      ]
     },
     "execution_count": 48,
     "metadata": {},
     "output_type": "execute_result"
    }
   ],
   "source": [
    "20 == \"20\"        # Returns Boolean after comparing  --> False  --> Compares int and String  \n",
    "                  #                                             --> Considering as different and return False"
   ]
  },
  {
   "cell_type": "markdown",
   "metadata": {},
   "source": [
    "#### Inbuilt functions for Boolean"
   ]
  },
  {
   "cell_type": "code",
   "execution_count": 49,
   "metadata": {},
   "outputs": [
    {
     "name": "stdout",
     "output_type": "stream",
     "text": [
      "All chars are Numbers:  False\n",
      "All chars in String are Digit: False\n",
      "All chars in String are Alphabets : False\n",
      "String contains Title words:  True\n",
      "All chars in String are Upper Case: False\n",
      "All chars in String are Lower Case: False\n",
      "String contains only Space:  False\n",
      "String ends with Alphabet:  False\n",
      "String starts with Alphabet:  True\n"
     ]
    }
   ],
   "source": [
    "print(\"All chars are Numbers: \" , mystr.isalnum())\n",
    "print(\"All chars in String are Digit: \" + str(mystr.isdigit())) # Not possible without TypeCasting -We can't concatenate String and Boolean\n",
    "print(\"All chars in String are Alphabets : \" + str(mystr.isalpha()))\n",
    "print(\"String contains Title words: \" , mystr.istitle()) # All words to be started with Uppercase\n",
    "print(\"All chars in String are Upper Case:\" , mystr.isupper())\n",
    "print(\"All chars in String are Lower Case:\" , mystr.islower())\n",
    "print(\"String contains only Space: \" , mystr.isspace())\n",
    "print(\"String ends with Alphabet: \" , mystr.endswith('P')) # case sensitive\n",
    "print(\"String starts with Alphabet: \", mystr.startswith(\"J\"))\n"
   ]
  },
  {
   "cell_type": "markdown",
   "metadata": {},
   "source": [
    "## Data Structures : \n",
    "\n",
    "#### Data Structures are important for Analyzing Explotary Data Analysis (EDA)\n",
    "* Seperated by commas (includes different of datatypes elements)\n",
    "* In python We have 2 types of standard Datatypes - \n",
    "    * 1. Immutable -  Numbers, Strings, Tuples\n",
    "    * 2. Mutable - List, Dictionaries, Sets\n",
    "    \n",
    "- Lists[]\n",
    "- sets{}\n",
    "- Dictionaries {key: value}\n",
    "- Tuples()"
   ]
  },
  {
   "cell_type": "markdown",
   "metadata": {},
   "source": [
    "### List []\n",
    "- A list is a Data Structure in Python\n",
    "- Mutable / Changeable, ordered sequence of elements\n",
    "- Each element inside a List is called as Item\n",
    "- For String, we define as 'characters' quotes. Likewise List is defined as [items] square Brackets "
   ]
  },
  {
   "cell_type": "code",
   "execution_count": 50,
   "metadata": {},
   "outputs": [
    {
     "data": {
      "text/plain": [
       "list"
      ]
     },
     "execution_count": 50,
     "metadata": {},
     "output_type": "execute_result"
    }
   ],
   "source": [
    "type([])"
   ]
  },
  {
   "cell_type": "code",
   "execution_count": 51,
   "metadata": {},
   "outputs": [
    {
     "name": "stdout",
     "output_type": "stream",
     "text": [
      "<class 'list'>\n"
     ]
    },
    {
     "data": {
      "text/plain": [
       "[]"
      ]
     },
     "execution_count": 51,
     "metadata": {},
     "output_type": "execute_result"
    }
   ],
   "source": [
    "L1 = []           # Create a empty List\n",
    "print(type(L1))\n",
    "L1"
   ]
  },
  {
   "cell_type": "code",
   "execution_count": 52,
   "metadata": {},
   "outputs": [
    {
     "name": "stdout",
     "output_type": "stream",
     "text": [
      "<class 'list'>\n"
     ]
    },
    {
     "data": {
      "text/plain": [
       "[]"
      ]
     },
     "execution_count": 52,
     "metadata": {},
     "output_type": "execute_result"
    }
   ],
   "source": [
    "L2 = list()        # function : list() -  To create empty list using function\n",
    "print(type(L1))\n",
    "L2"
   ]
  },
  {
   "cell_type": "code",
   "execution_count": 53,
   "metadata": {},
   "outputs": [
    {
     "name": "stdout",
     "output_type": "stream",
     "text": [
      "89\n",
      "[7, 90, 'kas', 90.678, 'JaLla', (90, 'uh', 89.7), ['kai', 'tha', 90.3]]\n",
      "90\n"
     ]
    }
   ],
   "source": [
    "Li = [7, 89, \"kas\",90.678, \"JaLla\",(90, \"uh\",89.7),[\"kai\",\"tha\",90.3]]  # List is a Mix of int, float, String, Tuple, List\n",
    "print(Li[1])\n",
    "Li[1]= 90          # Editable                                                             \n",
    "print(Li)    \n",
    "print(Li[1])"
   ]
  },
  {
   "cell_type": "code",
   "execution_count": 54,
   "metadata": {},
   "outputs": [
    {
     "name": "stdout",
     "output_type": "stream",
     "text": [
      "a\n",
      "tha\n",
      "[7, 90, 'kas', 90.678, 'JaLla', (90, 'uh', 89.7), ['kai', 45, 90.3]]\n",
      "45\n"
     ]
    }
   ],
   "source": [
    "print(Li[6][1][2])    # To get particular character in String\n",
    "print(Li[6][1])           \n",
    "Li[6][1] = 45         # In List, we are editing  ==> List is Mutable / Changeable\n",
    "print(Li)\n",
    "print(Li[6][1]) "
   ]
  },
  {
   "cell_type": "code",
   "execution_count": 55,
   "metadata": {
    "scrolled": true
   },
   "outputs": [
    {
     "ename": "TypeError",
     "evalue": "'tuple' object does not support item assignment",
     "output_type": "error",
     "traceback": [
      "\u001b[1;31m---------------------------------------------------------------------------\u001b[0m",
      "\u001b[1;31mTypeError\u001b[0m                                 Traceback (most recent call last)",
      "\u001b[1;32m<ipython-input-55-585cfbcf56a1>\u001b[0m in \u001b[0;36m<module>\u001b[1;34m\u001b[0m\n\u001b[1;32m----> 1\u001b[1;33m \u001b[0mLi\u001b[0m\u001b[1;33m[\u001b[0m\u001b[1;36m5\u001b[0m\u001b[1;33m]\u001b[0m\u001b[1;33m[\u001b[0m\u001b[1;36m1\u001b[0m\u001b[1;33m]\u001b[0m \u001b[1;33m=\u001b[0m \u001b[1;36m76\u001b[0m     \u001b[1;31m# In Tuple, we try to edit --> But not possible --> Immutable\u001b[0m\u001b[1;33m\u001b[0m\u001b[1;33m\u001b[0m\u001b[0m\n\u001b[0m",
      "\u001b[1;31mTypeError\u001b[0m: 'tuple' object does not support item assignment"
     ]
    }
   ],
   "source": [
    "Li[5][1] = 76     # In Tuple, we try to edit --> But not possible --> Immutable"
   ]
  },
  {
   "cell_type": "code",
   "execution_count": 56,
   "metadata": {},
   "outputs": [
    {
     "data": {
      "text/plain": [
       "['Math1', 'Social', 80, '76', 10.87]"
      ]
     },
     "execution_count": 56,
     "metadata": {},
     "output_type": "execute_result"
    }
   ],
   "source": [
    "Lisi = ['Math1', 'Social', 80, '76', 10.87]\n",
    "Lisi"
   ]
  },
  {
   "cell_type": "code",
   "execution_count": 57,
   "metadata": {},
   "outputs": [
    {
     "name": "stdout",
     "output_type": "stream",
     "text": [
      "['Math1', 'Social', 80, '76', 10.87]\n",
      "[7, 90, 'kas', 90.678, 'JaLla', (90, 'uh', 89.7), ['kai', 45, 90.3]]\n",
      "[['Math1', 'Social', 80, '76', 10.87], [7, 90, 'kas', 90.678, 'JaLla', (90, 'uh', 89.7), ['kai', 45, 90.3]]]\n"
     ]
    }
   ],
   "source": [
    "print(Lisi)\n",
    "print(Li)\n",
    "ListAdd = print([Lisi,Li])  # Adding 2 Lists"
   ]
  },
  {
   "cell_type": "markdown",
   "metadata": {},
   "source": [
    "#### Inbuit functions for List"
   ]
  },
  {
   "cell_type": "code",
   "execution_count": 58,
   "metadata": {},
   "outputs": [
    {
     "name": "stdout",
     "output_type": "stream",
     "text": [
      "5\n",
      "7\n",
      "['Math1', 'Social', 80, '76', 10.87, 'Math1', 'Social', 80, '76', 10.87, 'Math1', 'Social', 80, '76', 10.87]\n"
     ]
    }
   ],
   "source": [
    "print(len(Lisi))      # function : len() - The No. of items in List\n",
    "print(len(Li))\n",
    "\n",
    "print(Lisi * 3)        # Appending 3 times"
   ]
  },
  {
   "cell_type": "code",
   "execution_count": 59,
   "metadata": {},
   "outputs": [
    {
     "name": "stdout",
     "output_type": "stream",
     "text": [
      "89.9\n",
      "sata\n",
      "245.9\n"
     ]
    }
   ],
   "source": [
    "Numb = [2, 78, 89.9, 76]\n",
    "Strngs = [\"kasi\",\"pra\",\"jall\",\"arama\",\"sata\"]\n",
    "Mixed = [1, 45, \"orad\",77,\"uit\",55]\n",
    "\n",
    "print(max(Numb))            # function : max() min()\n",
    "print(max(Strngs))          # Gives in Dictionary order\n",
    "# print(max(Mixed))         # Can't compare Numbers and Strings - Not possible\n",
    "\n",
    "print(sum(Numb))            # function : sum() - Sum of Numbers  - Possible only when all are Numericals \n",
    "# print(sum(Strngs))        # Not possible "
   ]
  },
  {
   "cell_type": "code",
   "execution_count": 60,
   "metadata": {
    "scrolled": true
   },
   "outputs": [
    {
     "name": "stdout",
     "output_type": "stream",
     "text": [
      "['Math1', 'Social', 80, '76', 10.87]\n",
      "['Math1', 'Social', 80, '76', 10.87, 'Pradeep']\n",
      "['Math1', 'Social', 80, '76', 10.87, 'Pradeep', ['Ram', 'Satya', 1993]]\n",
      "<class 'list'>\n",
      "['Math1', 'Social', 'Kasi', 80, '76', 10.87, 'Pradeep', ['Ram', 'Satya', 1993]]\n",
      "['Math1', 'Social', 'Kasi', 80, '76', 10.87, 'Pradeep', ['Ram', 'Satya', 1993], 'JKP', 955]\n",
      "['Math1', 'Kasi', 80, '76', 10.87, 'Pradeep', ['Ram', 'Satya', 1993], 'JKP', 955]\n",
      "['Math1', 'Kasi', '76', 10.87, 'Pradeep', ['Ram', 'Satya', 1993], 'JKP', 955]\n",
      "['Math1', 'Kasi', '76', 10.87, 'Pradeep', 'JKP', 955]\n",
      "955\n",
      "['Math1', 'Kasi', '76', 10.87, 'Pradeep', 'JKP']\n",
      "Kasi\n",
      "['Math1', '76', 10.87, 'Pradeep', 'JKP']\n",
      "['Math1', 'Pradeep', 'JKP']\n",
      "[]\n"
     ]
    }
   ],
   "source": [
    "Lis = ['Math1', 'Social', 80, '76', 10.87]\n",
    "print(Lis)\n",
    "\n",
    "Lis.append(\"Pradeep\")       #  .append() function : Used to add item (Single) at the end of the List\n",
    "print(Lis)\n",
    "\n",
    "Lis.append(['Ram', 'Satya', 1993]) # List is appending a List --> Nested List\n",
    "print(Lis)\n",
    "print(type(Lis))\n",
    "\n",
    "Lis.insert(2, \"Kasi\")       # .insert() function : Insert a item in a specific order using index(Index starts with 0,1,2...)\n",
    "print(Lis)\n",
    "\n",
    "Lis.extend(['JKP', 955])    # .extend() function : Add multiple items to the List \n",
    "print(Lis)\n",
    "\n",
    "Lis.remove(\"Social\")        # .remove() function : Removes the item using item name\n",
    "print(Lis)\n",
    "Lis.remove(80)  \n",
    "print(Lis)\n",
    "#Lis.remove('Satya')   # Here the element is under NestedList. Possible to remove item\n",
    "Lis.remove(['Ram', 'Satya', 1993])\n",
    "print(Lis)\n",
    "\n",
    "print(Lis.pop())           # .pop() function : Remove and Return last item in a List\n",
    "print(Lis)\n",
    "\n",
    "print(Lis.pop(1))          # .pop(I) function : Remove specific item using Index\n",
    "print(Lis)\n",
    "\n",
    "del Lis[1:3]               # del function using Slicing Operator -  deletes multiple items - Here 1,2 are deleted\n",
    "print(Lis) \n",
    "\n",
    "Lis.clear()                # .clear() function : Completely deletes the List\n",
    "print(Lis)"
   ]
  },
  {
   "cell_type": "code",
   "execution_count": 61,
   "metadata": {
    "scrolled": true
   },
   "outputs": [
    {
     "name": "stdout",
     "output_type": "stream",
     "text": [
      "[1, 5, 4, 1, 7, 8, [3, 1, 2, 9]]\n",
      "No. of times 7 occurred:  1\n",
      "No. of times 1 occurred:  2\n",
      "No. of times 5 occurred:  1\n",
      "No. of times 90 occurred:  0\n",
      "Index position of item 5:  1\n"
     ]
    },
    {
     "ename": "ValueError",
     "evalue": "5 is not in list",
     "output_type": "error",
     "traceback": [
      "\u001b[1;31m---------------------------------------------------------------------------\u001b[0m",
      "\u001b[1;31mValueError\u001b[0m                                Traceback (most recent call last)",
      "\u001b[1;32m<ipython-input-61-2793573ff77a>\u001b[0m in \u001b[0;36m<module>\u001b[1;34m\u001b[0m\n\u001b[0;32m      8\u001b[0m \u001b[0mprint\u001b[0m\u001b[1;33m(\u001b[0m\u001b[1;34m\"Index position of item 5: \"\u001b[0m\u001b[1;33m,\u001b[0m \u001b[0mLt\u001b[0m\u001b[1;33m.\u001b[0m\u001b[0mindex\u001b[0m\u001b[1;33m(\u001b[0m\u001b[1;36m5\u001b[0m\u001b[1;33m)\u001b[0m\u001b[1;33m)\u001b[0m \u001b[1;31m# .index(item) function : To Get Index Position of the item in First Occurrence\u001b[0m\u001b[1;33m\u001b[0m\u001b[1;33m\u001b[0m\u001b[0m\n\u001b[0;32m      9\u001b[0m \u001b[1;33m\u001b[0m\u001b[0m\n\u001b[1;32m---> 10\u001b[1;33m \u001b[0mprint\u001b[0m\u001b[1;33m(\u001b[0m\u001b[1;34m\"Index position of item 5: \"\u001b[0m\u001b[1;33m,\u001b[0m\u001b[0mLt\u001b[0m\u001b[1;33m.\u001b[0m\u001b[0mindex\u001b[0m\u001b[1;33m(\u001b[0m\u001b[1;36m5\u001b[0m\u001b[1;33m,\u001b[0m\u001b[1;36m2\u001b[0m\u001b[1;33m,\u001b[0m\u001b[1;36m3\u001b[0m\u001b[1;33m)\u001b[0m\u001b[1;33m)\u001b[0m \u001b[1;31m# .index(item, startIndexationSearch(In), EndIndexationSearch(Ex)) function\u001b[0m\u001b[1;33m\u001b[0m\u001b[1;33m\u001b[0m\u001b[0m\n\u001b[0m\u001b[0;32m     11\u001b[0m                                                      \u001b[1;31m# like Slicing Operator\u001b[0m\u001b[1;33m\u001b[0m\u001b[1;33m\u001b[0m\u001b[1;33m\u001b[0m\u001b[0m\n\u001b[0;32m     12\u001b[0m \u001b[1;33m\u001b[0m\u001b[0m\n",
      "\u001b[1;31mValueError\u001b[0m: 5 is not in list"
     ]
    }
   ],
   "source": [
    "Lt = [1,5,4,1,7,8, [3,1,2,9]]\n",
    "print(Lt)\n",
    "print(\"No. of times 7 occurred: \", Lt.count(7))  # .count() function - Calculate Total Occurrence of the item\n",
    "print(\"No. of times 1 occurred: \", Lt.count(1))\n",
    "print(\"No. of times 5 occurred: \", Lt.count(5))\n",
    "print(\"No. of times 90 occurred: \", Lt.count(90))\n",
    "\n",
    "print(\"Index position of item 5: \", Lt.index(5)) # .index(item) function : To Get Index Position of the item in First Occurrence\n",
    "\n",
    "print(\"Index position of item 5: \",Lt.index(5,2,3)) # .index(item, startIndexationSearch(In), EndIndexationSearch(Ex)) function\n",
    "                                                     # like Slicing Operator    \n",
    "\n",
    "    "
   ]
  },
  {
   "cell_type": "code",
   "execution_count": 62,
   "metadata": {},
   "outputs": [
    {
     "name": "stdout",
     "output_type": "stream",
     "text": [
      "[7, 89, 'kas', 90.678, 'JaLla', (90, 'uh', 89.7), ['kai', 'tha', 90.3]]\n",
      "kas\n",
      "['kai', 'tha', 90.3]\n",
      "7\n",
      "[7, 89, 'kas', 90.678, 'JaLla', (90, 'uh', 89.7), ['kai', 'tha', 90.3]]\n",
      "[7, 89, 'kas', 90.678, 'JaLla', (90, 'uh', 89.7)]\n",
      "['kas', 90.678, 'JaLla', (90, 'uh', 89.7), ['kai', 'tha', 90.3]]\n",
      "[7, 89, 'kas', 90.678, 'JaLla']\n",
      "['kas', 90.678, 'JaLla']\n",
      "[7, 89, 'kas', 90.678, 'JaLla', (90, 'uh', 89.7), ['kai', 'tha', 90.3]]\n"
     ]
    }
   ],
   "source": [
    "L1 = [7, 89, \"kas\",90.678, \"JaLla\",(90, \"uh\",89.7),[\"kai\",\"tha\",90.3]] \n",
    "print(L1)\n",
    "\n",
    "print(L1[2])      # Indexing in List\n",
    "print(L1[6])\n",
    "\n",
    "print(len(L1))\n",
    "\n",
    "print(L1[:])\n",
    "\n",
    "print(L1[0:6])    # Included  : notIncluded\n",
    "\n",
    "print(L1[2:])\n",
    "\n",
    "print(L1[:5]) \n",
    "\n",
    "print(L1[2:5])    # Intersection part i.e.., Common part L1[2:] Intersection L1[:5]\n",
    "\n",
    "print(L1)"
   ]
  },
  {
   "cell_type": "code",
   "execution_count": 63,
   "metadata": {},
   "outputs": [
    {
     "name": "stdout",
     "output_type": "stream",
     "text": [
      "[2, 78, 89.9, 76]\n",
      "[2, 76, 78, 89.9]\n",
      "[2, 78, 89.9, 76]\n"
     ]
    }
   ],
   "source": [
    "Num = [2, 78, 89.9, 76]\n",
    "print(Num)\n",
    "print(sorted(Num))           #  function : sorted() -  Can be used for Tuples also\n",
    "print(Num)"
   ]
  },
  {
   "cell_type": "markdown",
   "metadata": {},
   "source": [
    "#### Specifically for List"
   ]
  },
  {
   "cell_type": "code",
   "execution_count": 64,
   "metadata": {},
   "outputs": [
    {
     "name": "stdout",
     "output_type": "stream",
     "text": [
      "[2, 76, 78, 89.9]\n",
      "[89.9, 78, 76, 2]\n"
     ]
    }
   ],
   "source": [
    "Num.sort()                   # .sort() function - Used for List only - Stored in same\n",
    "print(Num)\n",
    "\n",
    "Num.sort(reverse = True)     # reverse = False by default.\n",
    "print(Num)"
   ]
  },
  {
   "cell_type": "code",
   "execution_count": 65,
   "metadata": {},
   "outputs": [
    {
     "name": "stdout",
     "output_type": "stream",
     "text": [
      "['JaLla', 90.678, 'pradddpe', 89, 7]\n",
      "[7, 89, 'pradddpe', 90.678, 'JaLla']\n"
     ]
    }
   ],
   "source": [
    "R = ['JaLla', 90.678, 'pradddpe', 89, 7]\n",
    "print(R)\n",
    "\n",
    "R.reverse()   # .reverse() function - Used for List only - Stored in same(Doesn't return any values but Reverse the list object)\n",
    "print(R)"
   ]
  },
  {
   "cell_type": "markdown",
   "metadata": {},
   "source": [
    "### SET {}\n",
    "- A Set is an unordered collection datatype that is Iterable, Mutable and has no dupilcate Elements.\n",
    "- Python's set class represents the mathematical notion of a set.\n",
    "- This is based on a data structure known as a Hash Table.\n"
   ]
  },
  {
   "cell_type": "code",
   "execution_count": 66,
   "metadata": {},
   "outputs": [
    {
     "data": {
      "text/plain": [
       "dict"
      ]
     },
     "execution_count": 66,
     "metadata": {},
     "output_type": "execute_result"
    }
   ],
   "source": [
    "empset = {}  # Careful in creating empty set.  Here itz a dictionary - It's Not a SET\n",
    "type(empset)"
   ]
  },
  {
   "cell_type": "code",
   "execution_count": 67,
   "metadata": {
    "scrolled": true
   },
   "outputs": [
    {
     "name": "stdout",
     "output_type": "stream",
     "text": [
      "set()\n",
      "<class 'set'>\n"
     ]
    }
   ],
   "source": [
    "set1 = set()       # function : set() - Create emptySet using function\n",
    "print(set1)\n",
    "print(type(set1))"
   ]
  },
  {
   "cell_type": "code",
   "execution_count": 68,
   "metadata": {
    "scrolled": false
   },
   "outputs": [
    {
     "name": "stdout",
     "output_type": "stream",
     "text": [
      "{'Wife', 'Daddy', 'Mummy'}\n"
     ]
    },
    {
     "data": {
      "text/plain": [
       "set"
      ]
     },
     "execution_count": 68,
     "metadata": {},
     "output_type": "execute_result"
    }
   ],
   "source": [
    "set2 = {\"Mummy\", \"Daddy\", \"Wife\"}   # NotInOrder  - Generally order done as Ascending Alphabets\n",
    "print(set2)\n",
    "type(set2)"
   ]
  },
  {
   "cell_type": "code",
   "execution_count": 69,
   "metadata": {
    "scrolled": true
   },
   "outputs": [
    {
     "ename": "TypeError",
     "evalue": "'set' object is not subscriptable",
     "output_type": "error",
     "traceback": [
      "\u001b[1;31m---------------------------------------------------------------------------\u001b[0m",
      "\u001b[1;31mTypeError\u001b[0m                                 Traceback (most recent call last)",
      "\u001b[1;32m<ipython-input-69-2b3c054d7f78>\u001b[0m in \u001b[0;36m<module>\u001b[1;34m\u001b[0m\n\u001b[1;32m----> 1\u001b[1;33m \u001b[0mset2\u001b[0m\u001b[1;33m[\u001b[0m\u001b[1;34m'Wife'\u001b[0m\u001b[1;33m]\u001b[0m         \u001b[1;31m# To get Index Position of a element in the set (Not Possible) ==> Set doesn't support Indexing\u001b[0m\u001b[1;33m\u001b[0m\u001b[1;33m\u001b[0m\u001b[0m\n\u001b[0m",
      "\u001b[1;31mTypeError\u001b[0m: 'set' object is not subscriptable"
     ]
    }
   ],
   "source": [
    "set2['Wife']         # To get Index Position of a element in the set (Not Possible) ==> Set doesn't support Indexing"
   ]
  },
  {
   "cell_type": "code",
   "execution_count": 70,
   "metadata": {
    "scrolled": true
   },
   "outputs": [
    {
     "name": "stdout",
     "output_type": "stream",
     "text": [
      "{1, 2, 35, 4, 7}\n",
      "{1, 2, 35, 7, 8}\n"
     ]
    }
   ],
   "source": [
    "set3 = {1,2,35,7,2,4} # No duplicate elements \n",
    "print(set3)\n",
    "\n",
    "set3 = {1,2,8,7,35}  # Set can be edited ==> Mutable / Changeable\n",
    "print(set3)"
   ]
  },
  {
   "cell_type": "code",
   "execution_count": 71,
   "metadata": {
    "scrolled": true
   },
   "outputs": [
    {
     "ename": "TypeError",
     "evalue": "'set' object is not subscriptable",
     "output_type": "error",
     "traceback": [
      "\u001b[1;31m---------------------------------------------------------------------------\u001b[0m",
      "\u001b[1;31mTypeError\u001b[0m                                 Traceback (most recent call last)",
      "\u001b[1;32m<ipython-input-71-701c056c6285>\u001b[0m in \u001b[0;36m<module>\u001b[1;34m\u001b[0m\n\u001b[1;32m----> 1\u001b[1;33m \u001b[0mset3\u001b[0m\u001b[1;33m[\u001b[0m\u001b[1;36m2\u001b[0m\u001b[1;33m]\u001b[0m              \u001b[1;31m# To get element from Set using Index (Not possible) -  Set doesn't support Indexing\u001b[0m\u001b[1;33m\u001b[0m\u001b[1;33m\u001b[0m\u001b[0m\n\u001b[0m",
      "\u001b[1;31mTypeError\u001b[0m: 'set' object is not subscriptable"
     ]
    }
   ],
   "source": [
    "set3[2]              # To get element from Set using Index (Not possible) -  Set doesn't support Indexing"
   ]
  },
  {
   "cell_type": "markdown",
   "metadata": {},
   "source": [
    "#### Inbuilt functions of Set"
   ]
  },
  {
   "cell_type": "code",
   "execution_count": 72,
   "metadata": {},
   "outputs": [
    {
     "name": "stdout",
     "output_type": "stream",
     "text": [
      "{1, 2, 35, 7, 8}\n",
      "{1, 2, 35, 7, 8, 'Jpradee'}\n"
     ]
    }
   ],
   "source": [
    "print(set3)\n",
    "set3.add('Jpradee')                    # .add() function - can add one element at a time\n",
    "print(set3)"
   ]
  },
  {
   "cell_type": "code",
   "execution_count": 73,
   "metadata": {},
   "outputs": [
    {
     "data": {
      "text/plain": [
       "{1, 2, 35, 7, 8, 'Jpradee'}"
      ]
     },
     "execution_count": 73,
     "metadata": {},
     "output_type": "execute_result"
    }
   ],
   "source": [
    "set4 = set3\n",
    "set4"
   ]
  },
  {
   "cell_type": "code",
   "execution_count": 74,
   "metadata": {},
   "outputs": [
    {
     "data": {
      "text/plain": [
       "{1, 2, 35, 7, 76, 8, 89, 'Jpradee', 'hat'}"
      ]
     },
     "execution_count": 74,
     "metadata": {},
     "output_type": "execute_result"
    }
   ],
   "source": [
    "set4.update([76,89,\"hat\"])             # .update() function - can add multiple elements using [] brackets\n",
    "set4"
   ]
  },
  {
   "cell_type": "code",
   "execution_count": 75,
   "metadata": {},
   "outputs": [
    {
     "name": "stdout",
     "output_type": "stream",
     "text": [
      "{'F2', 'Fida', 'Kaidi'}\n",
      "{'Bahubali', 'Fida', 'Chatrapati', 'Arya', 'F2'}\n",
      "{'F2', 'Fida'}\n",
      "{'Kaidi', 'Bahubali', 'Fida', 'Chatrapati', 'Arya', 'F2'}\n",
      "{'Kaidi'}\n",
      "{'Kaidi'}\n",
      "{'Bahubali', 'Fida', 'Chatrapati', 'Arya', 'F2'}\n"
     ]
    }
   ],
   "source": [
    "SetCinema1 = {'Fida', 'F2', 'Kaidi'}           # Compare Both sets are Inorder\n",
    "SetCinema2 = {'Bahubali', 'Chatrapati','Fida','F2', 'Arya'}\n",
    "print(SetCinema1)\n",
    "print(SetCinema2)\n",
    "\n",
    "print(SetCinema1.intersection(SetCinema2))      # .intersection() function : \n",
    "print(SetCinema1.union(SetCinema2))             # .union() function :\n",
    "print(SetCinema1.difference(SetCinema2))        # .difference() function : SetCinema1 - SetCinema2\n",
    "\n",
    "SetCinema1.difference_update(SetCinema2)    # .difference_update function : SetCinema1 - SetCinema2 and Updated in SetCinema1\n",
    "print(SetCinema1)\n",
    "print(SetCinema2)"
   ]
  },
  {
   "cell_type": "markdown",
   "metadata": {},
   "source": [
    "### Dictonaries {key : value}\n",
    "- A dictionary is a Collection which is Unordered, Changeable and Indexed.\n",
    "- In python dictionaries are written with Curly Brackets{}, and they have keys & values\n",
    "- Keys are case sensitive and not to be duplicated\n",
    "- Values can be any datatype and can be duplicated.\n",
    "- DataSources like MongoDG, we load JSON object and Converts into Dictionaries. In MongoDB, we store most values in keyValue pair"
   ]
  },
  {
   "cell_type": "code",
   "execution_count": 76,
   "metadata": {},
   "outputs": [
    {
     "name": "stdout",
     "output_type": "stream",
     "text": [
      "{}\n"
     ]
    },
    {
     "data": {
      "text/plain": [
       "dict"
      ]
     },
     "execution_count": 76,
     "metadata": {},
     "output_type": "execute_result"
    }
   ],
   "source": [
    "dic = {}      # To Create an Empty Dictionary\n",
    "print(dic)\n",
    "type(dic)"
   ]
  },
  {
   "cell_type": "code",
   "execution_count": 77,
   "metadata": {},
   "outputs": [
    {
     "data": {
      "text/plain": [
       "dict"
      ]
     },
     "execution_count": 77,
     "metadata": {},
     "output_type": "execute_result"
    }
   ],
   "source": [
    "empdic = dict()  # function : dict() - To  create empty dictionary using function\n",
    "type(empdic)"
   ]
  },
  {
   "cell_type": "code",
   "execution_count": 78,
   "metadata": {
    "scrolled": true
   },
   "outputs": [
    {
     "name": "stdout",
     "output_type": "stream",
     "text": [
      "{'key1': (32, 67, 'jal', 98.4), 'key2': [89, 76.5, 'kas'], 'key3': 'pradeep', 'key4': 1993, 5: 9000}\n",
      "\n",
      "dict_items([('key1', (32, 67, 'jal', 98.4)), ('key2', [89, 76.5, 'kas']), ('key3', 'pradeep'), ('key4', 1993), (5, 9000)])\n",
      "\n",
      "dict_keys(['key1', 'key2', 'key3', 'key4', 5])\n",
      "\n",
      "dict_values([(32, 67, 'jal', 98.4), [89, 76.5, 'kas'], 'pradeep', 1993, 9000])\n",
      "\n",
      "(32, 67, 'jal', 98.4)\n",
      "\n",
      "9000\n"
     ]
    }
   ],
   "source": [
    "dictin = {\"key1\" : (32, 67,\"jal\",98.4),         # Values can be  tuple / List / int /float/ String\n",
    "           \"key2\" : [89,76.5,\"kas\"],\n",
    "           \"key3\" : \"pradeep\", \n",
    "           \"key4\" : 1993,\n",
    "                5 : 9000}                                         \n",
    "print(dictin)\n",
    "print(\"\")\n",
    "print(dictin.items())         # .items() function - To display all items in dictionary\n",
    "print(\"\")\n",
    "print(dictin.keys())         # .keys() function - To display all keys in dictionary\n",
    "print(\"\")\n",
    "print(dictin.values())       # .values() function - To display all values for all keys in dictionary\n",
    "print(\"\")\n",
    "print(dictin[\"key1\"])      # To display all corresponding items of a key in dictionary    # matrix brackets []  like index\n",
    "print(\"\")\n",
    "print(dictin[5])           # key can be a String/int......."
   ]
  },
  {
   "cell_type": "code",
   "execution_count": 79,
   "metadata": {},
   "outputs": [
    {
     "name": "stdout",
     "output_type": "stream",
     "text": [
      "{'Car1': 'Audi', 'Car2': 'BMW', 'Car3': 'Benz'}\n",
      "<class 'dict'>\n",
      "BMW\n",
      "{'Car1': 'Audi', 'Car2': 'BMW', 'Car3': 'Benz', 'Car4': 'Ambassodor'}\n",
      "{'Car1': 'Jaguar', 'Car2': 'BMW', 'Car3': 'Benz', 'Car4': 'Ambassodor'}\n"
     ]
    }
   ],
   "source": [
    "dict2 = {\"Car1\":\"Audi\", \"Car2\":\"BMW\", \"Car3\":\"Benz\"}\n",
    "print(dict2)\n",
    "\n",
    "print(type(dict2))\n",
    "print(dict2['Car2'])          # Here, In dictionaries,  Indexing done using Key.... dict[key]\n",
    "\n",
    "dict2['Car4'] = 'Ambassodor'  # Adding an item in Dictionary \n",
    "print(dict2)\n",
    "\n",
    "dict2['Car1']= 'Jaguar'       # Changeable / Mutable\n",
    "print(dict2)\n"
   ]
  },
  {
   "cell_type": "code",
   "execution_count": 80,
   "metadata": {},
   "outputs": [
    {
     "name": "stdout",
     "output_type": "stream",
     "text": [
      "Car1\n",
      "Car2\n",
      "Car3\n",
      "Car4\n"
     ]
    }
   ],
   "source": [
    "'''for loop'''\n",
    "# We can loop dictionary using keys -  By default Loop done through keys\n",
    "for x in dict2:\n",
    "    print(x)"
   ]
  },
  {
   "cell_type": "code",
   "execution_count": 81,
   "metadata": {},
   "outputs": [
    {
     "name": "stdout",
     "output_type": "stream",
     "text": [
      "Jaguar\n",
      "BMW\n",
      "Benz\n",
      "Ambassodor\n"
     ]
    }
   ],
   "source": [
    "'''for loop'''\n",
    "# We can loop dictionary using values\n",
    "for x in dict2.values():\n",
    "    print(x)"
   ]
  },
  {
   "cell_type": "code",
   "execution_count": 82,
   "metadata": {},
   "outputs": [
    {
     "name": "stdout",
     "output_type": "stream",
     "text": [
      "('Car1', 'Jaguar')\n",
      "('Car2', 'BMW')\n",
      "('Car3', 'Benz')\n",
      "('Car4', 'Ambassodor')\n"
     ]
    }
   ],
   "source": [
    "'''for loop'''\n",
    "# We can loop dictionary using items(key:value pair)\n",
    "for x in dict2.items():\n",
    "    print(x)"
   ]
  },
  {
   "cell_type": "markdown",
   "metadata": {},
   "source": [
    "#### Nested Dictionaries"
   ]
  },
  {
   "cell_type": "code",
   "execution_count": 83,
   "metadata": {},
   "outputs": [
    {
     "name": "stdout",
     "output_type": "stream",
     "text": [
      "<class 'dict'>\n",
      "<class 'dict'>\n",
      "{'car1': {'Benz': 1960}, 'car2': {'Audi': 1970}, 'car3': {'BMW': 1980}}\n"
     ]
    }
   ],
   "source": [
    "car1_model = {'Benz': 1960}\n",
    "car2_model = {'Audi': 1970}\n",
    "car3_model = {'BMW': 1980}\n",
    "print(type(car1_model))\n",
    "\n",
    "car_type ={'car1':car1_model, 'car2':car2_model, 'car3':car3_model}\n",
    "\n",
    "print(type(car_type))\n",
    "print(car_type)"
   ]
  },
  {
   "cell_type": "code",
   "execution_count": 84,
   "metadata": {},
   "outputs": [
    {
     "data": {
      "text/plain": [
       "1960"
      ]
     },
     "execution_count": 84,
     "metadata": {},
     "output_type": "execute_result"
    }
   ],
   "source": [
    "car_type['car1']['Benz']   # Retrieve using Indexing for Nested Dictionaries"
   ]
  },
  {
   "cell_type": "markdown",
   "metadata": {},
   "source": [
    "### Tuples()\n",
    "-  Not mutable (Once we define Tuple, we can't change elements)\n",
    "- Round Braces ()"
   ]
  },
  {
   "cell_type": "code",
   "execution_count": 85,
   "metadata": {},
   "outputs": [
    {
     "name": "stdout",
     "output_type": "stream",
     "text": [
      "()\n"
     ]
    },
    {
     "data": {
      "text/plain": [
       "tuple"
      ]
     },
     "execution_count": 85,
     "metadata": {},
     "output_type": "execute_result"
    }
   ],
   "source": [
    "t1 = ()         # Creating Empty Tuple\n",
    "print(t1)\n",
    "type(t1)"
   ]
  },
  {
   "cell_type": "code",
   "execution_count": 86,
   "metadata": {},
   "outputs": [
    {
     "name": "stdout",
     "output_type": "stream",
     "text": [
      "()\n"
     ]
    },
    {
     "data": {
      "text/plain": [
       "tuple"
      ]
     },
     "execution_count": 86,
     "metadata": {},
     "output_type": "execute_result"
    }
   ],
   "source": [
    "t2 = tuple()    # function : tuple() - To create empty tuple using function\n",
    "print(t2)\n",
    "type(t2)"
   ]
  },
  {
   "cell_type": "code",
   "execution_count": 87,
   "metadata": {},
   "outputs": [
    {
     "name": "stdout",
     "output_type": "stream",
     "text": [
      "('JAI', 'Ram', 'Satya', 67, 'Jalla', 90.2)\n",
      "Ram\n",
      "R\n"
     ]
    }
   ],
   "source": [
    "t3 = ('JAI', 'Ram', 'Satya',67, 'Jalla', 90.2) # In tuple, We given different DataTypes, such as int, Float, String..\n",
    "print(t3)\n",
    "\n",
    "print(t3[1])          # Indexing\n",
    "print(t3[1][0])\n"
   ]
  },
  {
   "cell_type": "code",
   "execution_count": 88,
   "metadata": {},
   "outputs": [
    {
     "name": "stdout",
     "output_type": "stream",
     "text": [
      "('JAI', 'Satya', 67, 'Jalla', 90.2)\n"
     ]
    }
   ],
   "source": [
    "# t3[2] = 'Pradeep' # Not possible ==> Tuple is Immutable \n",
    "t3 = ('JAI','Satya',67, 'Jalla', 90.2)         #we can replace complete Tuple,But not using Indexing\n",
    "print(t3)"
   ]
  },
  {
   "cell_type": "markdown",
   "metadata": {},
   "source": [
    "#### Inbuilt Funcions for Tuple"
   ]
  },
  {
   "cell_type": "code",
   "execution_count": 89,
   "metadata": {},
   "outputs": [
    {
     "name": "stdout",
     "output_type": "stream",
     "text": [
      "11\n",
      "1\n",
      "3\n",
      "0\n",
      "-78\n",
      "90.87\n",
      "[-78, 1, 2, 2, 2, 5.7, 6, 6, 9, 43, 90.87]\n"
     ]
    },
    {
     "data": {
      "text/plain": [
       "2"
      ]
     },
     "execution_count": 89,
     "metadata": {},
     "output_type": "execute_result"
    }
   ],
   "source": [
    "t4 = (1,2,43,6,2,9,2, 6, -78, 90.87,5.7)  \n",
    "\n",
    "print(len(t4))           # function : len()\n",
    "\n",
    "print(t4.count(9))       # .count() function : .- How times the element occurred\n",
    "print(t4.count(2))\n",
    "print(t4.count(3))\n",
    "\n",
    "                                           \n",
    "print(min(t4))           # function : min() / max()  --> All values in Tuple must be Integer / Float (or) All to be String\n",
    "print(max(t4))           # min/max doesnot work when mixed (numericals and strings are present)\n",
    "\n",
    "print(sorted(t4))       # function sorted()\n",
    "\n",
    "t4.index(43)            # .index(item) function - Gives the element Index value\n"
   ]
  },
  {
   "cell_type": "code",
   "execution_count": 90,
   "metadata": {},
   "outputs": [
    {
     "name": "stdout",
     "output_type": "stream",
     "text": [
      "satzy\n",
      "8anu\n"
     ]
    },
    {
     "data": {
      "text/plain": [
       "tuple"
      ]
     },
     "execution_count": 90,
     "metadata": {},
     "output_type": "execute_result"
    }
   ],
   "source": [
    "t6  = (\"rama\", \"satzy\",\"satya\", \"prani\",\"8anu\",\"Pradeep\",\"JaYa\") #Use ASCII values to compare #Compare as Dictionary\n",
    "print(max(t6))                                            # Here in this tuple, every element is String\n",
    "print(min(t6))\n",
    "type(t6)"
   ]
  },
  {
   "cell_type": "code",
   "execution_count": 91,
   "metadata": {},
   "outputs": [
    {
     "name": "stdout",
     "output_type": "stream",
     "text": [
      "True\n",
      "False\n",
      "True\n"
     ]
    }
   ],
   "source": [
    "t = (1,2,3,6,9,'la')        # To check element(int or float or string) present in that Tuple or set\n",
    "print(2 in t)               # in - Returns boolean\n",
    "print(8 in t)\n",
    "print('la' in t)"
   ]
  },
  {
   "cell_type": "markdown",
   "metadata": {},
   "source": [
    "Analyse this 3 things for any function -----1. Passing Parameter - 2. Return type - 3. Updated in Same----\n",
    "#### BuiltIn Functions \n",
    "1. <I><b>Inbuilt Functions</b></I>  -   print(); type(); round(); len(); input(); sorted(); max(); min(); sum()...\n",
    "\n",
    "####  Methods\n",
    "1. <I><b>String Methods</b></I>     -   .upper(); .lower(); .isalnum(); .split(); .join().....\n",
    "2. <I><b>List Methods</b></I>       -   .append(item); .reverse(); .sort(); .index()......\n",
    "\n",
    ".append(item) - Single argument passed, returns None, Existing List get Updated.\n",
    "\n",
    ".reverse()    - No argument passed, returns None, Existing List get Updated.\n",
    "\n",
    "3. <I><b>Set Methods  </b></I>      -   .add(elem); .difference_update(); .intersection();\n",
    "4. <I><b>Dictionary Methods</b></I> -   .items(); .keys()\n",
    "5. <I><b>Tuple Methods   </b></I>   -   .count(element); .index() "
   ]
  },
  {
   "cell_type": "markdown",
   "metadata": {},
   "source": [
    "### Swapping Program"
   ]
  },
  {
   "cell_type": "code",
   "execution_count": 92,
   "metadata": {},
   "outputs": [
    {
     "name": "stdout",
     "output_type": "stream",
     "text": [
      "85\n",
      "45\n",
      "85 45\n"
     ]
    }
   ],
   "source": [
    "p,q = 45,85                      #Without Third Variable\n",
    "p = p + q  # p=130 q=85\n",
    "q = p - q   # p=130 q =45\n",
    "p = p - q # p=85 q =45\n",
    "\n",
    "print(p)\n",
    "print(q)\n",
    "print(p, q)        "
   ]
  },
  {
   "cell_type": "code",
   "execution_count": 93,
   "metadata": {},
   "outputs": [
    {
     "name": "stdout",
     "output_type": "stream",
     "text": [
      "45 85\n"
     ]
    }
   ],
   "source": [
    "p,q =  q,p       #Swapping directly in python\n",
    "print(p, q)        "
   ]
  },
  {
   "cell_type": "code",
   "execution_count": null,
   "metadata": {},
   "outputs": [],
   "source": []
  }
 ],
 "metadata": {
  "kernelspec": {
   "display_name": "Python 3",
   "language": "python",
   "name": "python3"
  },
  "language_info": {
   "codemirror_mode": {
    "name": "ipython",
    "version": 3
   },
   "file_extension": ".py",
   "mimetype": "text/x-python",
   "name": "python",
   "nbconvert_exporter": "python",
   "pygments_lexer": "ipython3",
   "version": "3.7.6"
  }
 },
 "nbformat": 4,
 "nbformat_minor": 4
}
