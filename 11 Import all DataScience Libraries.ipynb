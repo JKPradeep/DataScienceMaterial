{
 "cells": [
  {
   "cell_type": "markdown",
   "metadata": {},
   "source": [
    "### Pyforest - Lazy-import of all Python Data Science Libraries"
   ]
  },
  {
   "cell_type": "markdown",
   "metadata": {},
   "source": [
    "When use a Inbuit function in a Library, then only that particular library will be imported"
   ]
  },
  {
   "cell_type": "markdown",
   "metadata": {},
   "source": [
    "- Using Pyforest, default libraries will be imported automatically (can see in lazy_imports())\n",
    "- Customise Pyforest - Add more  import statements by User if needed - C:\\Users\\DELL\\.pyforest - user_imports.py - add more"
   ]
  },
  {
   "cell_type": "code",
   "execution_count": 1,
   "metadata": {},
   "outputs": [],
   "source": [
    "# pip install pyforest"
   ]
  },
  {
   "cell_type": "code",
   "execution_count": 2,
   "metadata": {},
   "outputs": [],
   "source": [
    "# import pyforest"
   ]
  },
  {
   "cell_type": "code",
   "execution_count": 3,
   "metadata": {
    "scrolled": true
   },
   "outputs": [
    {
     "data": {
      "application/javascript": [
       "\n",
       "        if (window._pyforest_update_imports_cell) { window._pyforest_update_imports_cell('import numpy as np'); }\n",
       "    "
      ],
      "text/plain": [
       "<IPython.core.display.Javascript object>"
      ]
     },
     "metadata": {},
     "output_type": "display_data"
    },
    {
     "data": {
      "text/plain": [
       "array([1, 2, 3])"
      ]
     },
     "execution_count": 3,
     "metadata": {},
     "output_type": "execute_result"
    }
   ],
   "source": [
    "np.array([1,2,3])"
   ]
  },
  {
   "cell_type": "code",
   "execution_count": 4,
   "metadata": {},
   "outputs": [
    {
     "data": {
      "application/javascript": [
       "\n",
       "        if (window._pyforest_update_imports_cell) { window._pyforest_update_imports_cell('import pandas as pd\\nimport numpy as np'); }\n",
       "    "
      ],
      "text/plain": [
       "<IPython.core.display.Javascript object>"
      ]
     },
     "metadata": {},
     "output_type": "display_data"
    }
   ],
   "source": [
    "df = pd.read_csv(\"http://winterolympicsmedals.com/medals.csv\")"
   ]
  },
  {
   "cell_type": "code",
   "execution_count": 5,
   "metadata": {},
   "outputs": [
    {
     "data": {
      "text/html": [
       "<div>\n",
       "<style scoped>\n",
       "    .dataframe tbody tr th:only-of-type {\n",
       "        vertical-align: middle;\n",
       "    }\n",
       "\n",
       "    .dataframe tbody tr th {\n",
       "        vertical-align: top;\n",
       "    }\n",
       "\n",
       "    .dataframe thead th {\n",
       "        text-align: right;\n",
       "    }\n",
       "</style>\n",
       "<table border=\"1\" class=\"dataframe\">\n",
       "  <thead>\n",
       "    <tr style=\"text-align: right;\">\n",
       "      <th></th>\n",
       "      <th>Year</th>\n",
       "      <th>City</th>\n",
       "      <th>Sport</th>\n",
       "      <th>Discipline</th>\n",
       "      <th>NOC</th>\n",
       "      <th>Event</th>\n",
       "      <th>Event gender</th>\n",
       "      <th>Medal</th>\n",
       "    </tr>\n",
       "  </thead>\n",
       "  <tbody>\n",
       "    <tr>\n",
       "      <th>0</th>\n",
       "      <td>1924</td>\n",
       "      <td>Chamonix</td>\n",
       "      <td>Skating</td>\n",
       "      <td>Figure skating</td>\n",
       "      <td>AUT</td>\n",
       "      <td>individual</td>\n",
       "      <td>M</td>\n",
       "      <td>Silver</td>\n",
       "    </tr>\n",
       "    <tr>\n",
       "      <th>1</th>\n",
       "      <td>1924</td>\n",
       "      <td>Chamonix</td>\n",
       "      <td>Skating</td>\n",
       "      <td>Figure skating</td>\n",
       "      <td>AUT</td>\n",
       "      <td>individual</td>\n",
       "      <td>W</td>\n",
       "      <td>Gold</td>\n",
       "    </tr>\n",
       "    <tr>\n",
       "      <th>2</th>\n",
       "      <td>1924</td>\n",
       "      <td>Chamonix</td>\n",
       "      <td>Skating</td>\n",
       "      <td>Figure skating</td>\n",
       "      <td>AUT</td>\n",
       "      <td>pairs</td>\n",
       "      <td>X</td>\n",
       "      <td>Gold</td>\n",
       "    </tr>\n",
       "    <tr>\n",
       "      <th>3</th>\n",
       "      <td>1924</td>\n",
       "      <td>Chamonix</td>\n",
       "      <td>Bobsleigh</td>\n",
       "      <td>Bobsleigh</td>\n",
       "      <td>BEL</td>\n",
       "      <td>four-man</td>\n",
       "      <td>M</td>\n",
       "      <td>Bronze</td>\n",
       "    </tr>\n",
       "    <tr>\n",
       "      <th>4</th>\n",
       "      <td>1924</td>\n",
       "      <td>Chamonix</td>\n",
       "      <td>Ice Hockey</td>\n",
       "      <td>Ice Hockey</td>\n",
       "      <td>CAN</td>\n",
       "      <td>ice hockey</td>\n",
       "      <td>M</td>\n",
       "      <td>Gold</td>\n",
       "    </tr>\n",
       "  </tbody>\n",
       "</table>\n",
       "</div>"
      ],
      "text/plain": [
       "   Year      City       Sport      Discipline  NOC       Event Event gender  \\\n",
       "0  1924  Chamonix     Skating  Figure skating  AUT  individual            M   \n",
       "1  1924  Chamonix     Skating  Figure skating  AUT  individual            W   \n",
       "2  1924  Chamonix     Skating  Figure skating  AUT       pairs            X   \n",
       "3  1924  Chamonix   Bobsleigh       Bobsleigh  BEL    four-man            M   \n",
       "4  1924  Chamonix  Ice Hockey      Ice Hockey  CAN  ice hockey            M   \n",
       "\n",
       "    Medal  \n",
       "0  Silver  \n",
       "1    Gold  \n",
       "2    Gold  \n",
       "3  Bronze  \n",
       "4    Gold  "
      ]
     },
     "execution_count": 5,
     "metadata": {},
     "output_type": "execute_result"
    }
   ],
   "source": [
    "df.head()"
   ]
  },
  {
   "cell_type": "code",
   "execution_count": 6,
   "metadata": {},
   "outputs": [],
   "source": [
    "lst1=[1,2,3,5]\n",
    "lst2=[3,4,1,4]"
   ]
  },
  {
   "cell_type": "code",
   "execution_count": 7,
   "metadata": {},
   "outputs": [
    {
     "data": {
      "application/javascript": [
       "\n",
       "        if (window._pyforest_update_imports_cell) { window._pyforest_update_imports_cell('import pandas as pd\\nimport numpy as np\\nimport matplotlib.pyplot as plt'); }\n",
       "    "
      ],
      "text/plain": [
       "<IPython.core.display.Javascript object>"
      ]
     },
     "metadata": {},
     "output_type": "display_data"
    },
    {
     "data": {
      "application/javascript": [
       "\n",
       "        if (window._pyforest_update_imports_cell) { window._pyforest_update_imports_cell('import pandas as pd\\nimport numpy as np\\nimport matplotlib.pyplot as plt'); }\n",
       "    "
      ],
      "text/plain": [
       "<IPython.core.display.Javascript object>"
      ]
     },
     "metadata": {},
     "output_type": "display_data"
    },
    {
     "data": {
      "application/javascript": [
       "\n",
       "        if (window._pyforest_update_imports_cell) { window._pyforest_update_imports_cell('import pandas as pd\\nimport numpy as np\\nimport matplotlib.pyplot as plt'); }\n",
       "    "
      ],
      "text/plain": [
       "<IPython.core.display.Javascript object>"
      ]
     },
     "metadata": {},
     "output_type": "display_data"
    },
    {
     "data": {
      "application/javascript": [
       "\n",
       "        if (window._pyforest_update_imports_cell) { window._pyforest_update_imports_cell('import pandas as pd\\nimport numpy as np\\nimport matplotlib.pyplot as plt'); }\n",
       "    "
      ],
      "text/plain": [
       "<IPython.core.display.Javascript object>"
      ]
     },
     "metadata": {},
     "output_type": "display_data"
    },
    {
     "data": {
      "image/png": "[encoded data removed]",
      "text/plain": [
       "<Figure size 432x288 with 1 Axes>"
      ]
     },
     "metadata": {
      "needs_background": "light"
     },
     "output_type": "display_data"
    }
   ],
   "source": [
    "plt.plot(lst1,lst2)\n",
    "plt.xlabel(\"X axis\")\n",
    "plt.ylabel(\"Y axis\")\n",
    "plt.show()"
   ]
  },
  {
   "cell_type": "code",
   "execution_count": 8,
   "metadata": {},
   "outputs": [
    {
     "data": {
      "application/javascript": [
       "\n",
       "        if (window._pyforest_update_imports_cell) { window._pyforest_update_imports_cell('import seaborn as sns\\nimport pandas as pd\\nimport numpy as np\\nimport matplotlib.pyplot as plt'); }\n",
       "    "
      ],
      "text/plain": [
       "<IPython.core.display.Javascript object>"
      ]
     },
     "metadata": {},
     "output_type": "display_data"
    },
    {
     "name": "stderr",
     "output_type": "stream",
     "text": [
      "C:\\Users\\DELL\\anaconda3\\lib\\site-packages\\seaborn\\distributions.py:2551: FutureWarning: `distplot` is a deprecated function and will be removed in a future version. Please adapt your code to use either `displot` (a figure-level function with similar flexibility) or `histplot` (an axes-level function for histograms).\n",
      "  warnings.warn(msg, FutureWarning)\n"
     ]
    },
    {
     "data": {
      "text/plain": [
       "<AxesSubplot:xlabel='Year', ylabel='Density'>"
      ]
     },
     "execution_count": 8,
     "metadata": {},
     "output_type": "execute_result"
    },
    {
     "data": {
      "image/png": "[encoded data removed]",
      "text/plain": [
       "<Figure size 432x288 with 1 Axes>"
      ]
     },
     "metadata": {
      "needs_background": "light"
     },
     "output_type": "display_data"
    }
   ],
   "source": [
    "sns.distplot(df['Year'])"
   ]
  },
  {
   "cell_type": "code",
   "execution_count": 9,
   "metadata": {
    "scrolled": true
   },
   "outputs": [
    {
     "name": "stdout",
     "output_type": "stream",
     "text": [
      "import seaborn as sns\n",
      "import pandas as pd\n",
      "import numpy as np\n",
      "import matplotlib.pyplot as plt\n"
     ]
    },
    {
     "data": {
      "text/plain": [
       "['import seaborn as sns',\n",
       " 'import pandas as pd',\n",
       " 'import numpy as np',\n",
       " 'import matplotlib.pyplot as plt']"
      ]
     },
     "execution_count": 9,
     "metadata": {},
     "output_type": "execute_result"
    }
   ],
   "source": [
    "active_imports()"
   ]
  },
  {
   "cell_type": "code",
   "execution_count": 10,
   "metadata": {},
   "outputs": [
    {
     "data": {
      "text/plain": [
       "['import pickle',\n",
       " 'import awswrangler as wr',\n",
       " 'import re',\n",
       " 'from openpyxl import load_workbook',\n",
       " 'import spacy',\n",
       " 'import datetime as dt',\n",
       " 'import glob',\n",
       " 'from sklearn.model_selection import train_test_split',\n",
       " 'import pydot',\n",
       " 'import tqdm',\n",
       " 'import altair as alt',\n",
       " 'import gensim',\n",
       " 'from sklearn.ensemble import GradientBoostingRegressor',\n",
       " 'import plotly.graph_objs as go',\n",
       " 'from sklearn.feature_extraction.text import TfidfVectorizer',\n",
       " 'import nltk',\n",
       " 'from pathlib import Path',\n",
       " 'from sklearn.ensemble import GradientBoostingClassifier',\n",
       " 'import sklearn',\n",
       " 'import tensorflow as tf',\n",
       " 'from sklearn.metrics import accuracy_score',\n",
       " 'import os',\n",
       " 'import xgboost as xgb',\n",
       " 'import keras',\n",
       " 'import plotly as py',\n",
       " 'from pyspark import SparkContext',\n",
       " 'from sklearn import svm',\n",
       " 'import matplotlib as mpl',\n",
       " 'from sklearn.linear_model import LogisticRegression',\n",
       " 'from dask import dataframe as dd',\n",
       " 'from sklearn.ensemble import RandomForestRegressor',\n",
       " 'import lightgbm as lgb',\n",
       " 'import bokeh',\n",
       " 'from sklearn.metrics import confusion_matrix',\n",
       " 'from sklearn.ensemble import RandomForestClassifier',\n",
       " 'import dash',\n",
       " 'from sklearn.manifold import TSNE',\n",
       " 'import statistics',\n",
       " 'import sys',\n",
       " 'import plotly.express as px',\n",
       " 'from sklearn.preprocessing import OneHotEncoder']"
      ]
     },
     "execution_count": 10,
     "metadata": {},
     "output_type": "execute_result"
    }
   ],
   "source": [
    "lazy_imports()"
   ]
  },
  {
   "cell_type": "code",
   "execution_count": 11,
   "metadata": {},
   "outputs": [
    {
     "data": {
      "text/plain": [
       "['GradientBoostingClassifier',\n",
       " 'GradientBoostingRegressor',\n",
       " 'LazyImport',\n",
       " 'LogisticRegression',\n",
       " 'OneHotEncoder',\n",
       " 'Path',\n",
       " 'RandomForestClassifier',\n",
       " 'RandomForestRegressor',\n",
       " 'SparkContext',\n",
       " 'TSNE',\n",
       " 'TfidfVectorizer',\n",
       " '__builtins__',\n",
       " '__cached__',\n",
       " '__doc__',\n",
       " '__file__',\n",
       " '__loader__',\n",
       " '__name__',\n",
       " '__package__',\n",
       " '__path__',\n",
       " '__spec__',\n",
       " '__version__',\n",
       " '_importable',\n",
       " '_imports',\n",
       " '_jupyter_labextension_paths',\n",
       " '_jupyter_nbextension_paths',\n",
       " 'accuracy_score',\n",
       " 'active_imports',\n",
       " 'alt',\n",
       " 'bokeh',\n",
       " 'confusion_matrix',\n",
       " 'dash',\n",
       " 'dd',\n",
       " 'dt',\n",
       " 'gensim',\n",
       " 'get_user_symbols',\n",
       " 'glob',\n",
       " 'go',\n",
       " 'import_symbol',\n",
       " 'install_extensions',\n",
       " 'install_labextension',\n",
       " 'install_nbextension',\n",
       " 'keras',\n",
       " 'lazy_imports',\n",
       " 'lgb',\n",
       " 'load_workbook',\n",
       " 'mpl',\n",
       " 'nltk',\n",
       " 'np',\n",
       " 'os',\n",
       " 'pd',\n",
       " 'pickle',\n",
       " 'plt',\n",
       " 'px',\n",
       " 'py',\n",
       " 'pydot',\n",
       " 'pyforest_imports',\n",
       " 're',\n",
       " 'sklearn',\n",
       " 'sns',\n",
       " 'spacy',\n",
       " 'statistics',\n",
       " 'svm',\n",
       " 'sys',\n",
       " 'tf',\n",
       " 'tqdm',\n",
       " 'train_test_split',\n",
       " 'user_specific_imports',\n",
       " 'user_symbols',\n",
       " 'utils',\n",
       " 'wr',\n",
       " 'xgb']"
      ]
     },
     "execution_count": 11,
     "metadata": {},
     "output_type": "execute_result"
    }
   ],
   "source": [
    "dir(pyforest)"
   ]
  },
  {
   "cell_type": "code",
   "execution_count": 12,
   "metadata": {},
   "outputs": [
    {
     "data": {
      "text/plain": [
       "'## Default Imports\\n\\n### Data Wrangling\\npd = LazyImport(\"import pandas as pd\")\\n \\nnp = LazyImport(\"import numpy as np\")\\n \\ndd = LazyImport(\"from dask import dataframe as dd\")\\nSparkContext = LazyImport(\"from pyspark import SparkContext\")\\n \\nload_workbook = LazyImport(\"from openpyxl import load_workbook\")\\n \\n### Data Visualization and Plotting\\nmpl = LazyImport(\"import matplotlib as mpl\")\\nplt = LazyImport(\"import matplotlib.pyplot as plt\")\\n \\nsns = LazyImport(\"import seaborn as sns\")\\n \\npy = LazyImport(\"import plotly as py\")\\ngo = LazyImport(\"import plotly.graph_objs as go\")\\npx = LazyImport(\"import plotly.express as px\")\\n \\ndash = LazyImport(\"import dash\")\\n \\nbokeh = LazyImport(\"import bokeh\")\\n \\nalt = LazyImport(\"import altair as alt\")\\n \\npydot = LazyImport(\"import pydot\")\\n \\n# statistics\\nstatistics = LazyImport(\"import statistics\")\\n \\n### Machine Learning\\nsklearn = LazyImport(\"import sklearn\")\\nOneHotEncoder = LazyImport(\"from sklearn.preprocessing import OneHotEncoder\")\\nTSNE = LazyImport(\"from sklearn.manifold import TSNE\")\\ntrain_test_split = LazyImport(\"from sklearn.model_selection import train_test_split\")\\nsvm = LazyImport(\"from sklearn import svm\")\\nGradientBoostingClassifier = LazyImport(\\n    \"from sklearn.ensemble import GradientBoostingClassifier\")\\nGradientBoostingRegressor = LazyImport(\\n    \"from sklearn.ensemble import GradientBoostingRegressor\")\\nRandomForestClassifier = LazyImport(\\n    \"from sklearn.ensemble import RandomForestClassifier\")\\nRandomForestRegressor = LazyImport(\"from sklearn.ensemble import RandomForestRegressor\")\\n \\nTfidfVectorizer = LazyImport(\\n    \"from sklearn.feature_extraction.text import TfidfVectorizer\")\\n \\n# TODO: add all the other most important sklearn objects\\n# TODO: add separate ps within machine learning viz. Classification, Regression, Error Functions, Clustering\\n \\n# Deep Learning\\ntf = LazyImport(\"import tensorflow as tf\")\\nkeras = LazyImport(\"import keras\")\\n \\n# NLP\\nnltk = LazyImport(\"import nltk\")\\ngensim = LazyImport(\"import gensim\")\\nspacy = LazyImport(\"import spacy\")\\nre = LazyImport(\"import re\")\\n \\n### Helper\\nsys = LazyImport(\"import sys\")\\nos = LazyImport(\"import os\")\\nre = LazyImport(\"import re\")\\nglob = LazyImport(\"import glob\")\\nPath = LazyImport(\"from pathlib import Path\")\\n \\npickle = LazyImport(\"import pickle\")\\n \\ndt = LazyImport(\"import datetime as dt\")\\n \\ntqdm = LazyImport(\"import tqdm\")\\n'"
      ]
     },
     "execution_count": 12,
     "metadata": {},
     "output_type": "execute_result"
    }
   ],
   "source": [
    "'''## Default Imports\n",
    "\n",
    "### Data Wrangling\n",
    "pd = LazyImport(\"import pandas as pd\")\n",
    " \n",
    "np = LazyImport(\"import numpy as np\")\n",
    " \n",
    "dd = LazyImport(\"from dask import dataframe as dd\")\n",
    "SparkContext = LazyImport(\"from pyspark import SparkContext\")\n",
    " \n",
    "load_workbook = LazyImport(\"from openpyxl import load_workbook\")\n",
    " \n",
    "### Data Visualization and Plotting\n",
    "mpl = LazyImport(\"import matplotlib as mpl\")\n",
    "plt = LazyImport(\"import matplotlib.pyplot as plt\")\n",
    " \n",
    "sns = LazyImport(\"import seaborn as sns\")\n",
    " \n",
    "py = LazyImport(\"import plotly as py\")\n",
    "go = LazyImport(\"import plotly.graph_objs as go\")\n",
    "px = LazyImport(\"import plotly.express as px\")\n",
    " \n",
    "dash = LazyImport(\"import dash\")\n",
    " \n",
    "bokeh = LazyImport(\"import bokeh\")\n",
    " \n",
    "alt = LazyImport(\"import altair as alt\")\n",
    " \n",
    "pydot = LazyImport(\"import pydot\")\n",
    " \n",
    "# statistics\n",
    "statistics = LazyImport(\"import statistics\")\n",
    " \n",
    "### Machine Learning\n",
    "sklearn = LazyImport(\"import sklearn\")\n",
    "OneHotEncoder = LazyImport(\"from sklearn.preprocessing import OneHotEncoder\")\n",
    "TSNE = LazyImport(\"from sklearn.manifold import TSNE\")\n",
    "train_test_split = LazyImport(\"from sklearn.model_selection import train_test_split\")\n",
    "svm = LazyImport(\"from sklearn import svm\")\n",
    "GradientBoostingClassifier = LazyImport(\n",
    "    \"from sklearn.ensemble import GradientBoostingClassifier\")\n",
    "GradientBoostingRegressor = LazyImport(\n",
    "    \"from sklearn.ensemble import GradientBoostingRegressor\")\n",
    "RandomForestClassifier = LazyImport(\n",
    "    \"from sklearn.ensemble import RandomForestClassifier\")\n",
    "RandomForestRegressor = LazyImport(\"from sklearn.ensemble import RandomForestRegressor\")\n",
    " \n",
    "TfidfVectorizer = LazyImport(\n",
    "    \"from sklearn.feature_extraction.text import TfidfVectorizer\")\n",
    " \n",
    "# TODO: add all the other most important sklearn objects\n",
    "# TODO: add separate ps within machine learning viz. Classification, Regression, Error Functions, Clustering\n",
    " \n",
    "# Deep Learning\n",
    "tf = LazyImport(\"import tensorflow as tf\")\n",
    "keras = LazyImport(\"import keras\")\n",
    " \n",
    "# NLP\n",
    "nltk = LazyImport(\"import nltk\")\n",
    "gensim = LazyImport(\"import gensim\")\n",
    "spacy = LazyImport(\"import spacy\")\n",
    "re = LazyImport(\"import re\")\n",
    " \n",
    "### Helper\n",
    "sys = LazyImport(\"import sys\")\n",
    "os = LazyImport(\"import os\")\n",
    "re = LazyImport(\"import re\")\n",
    "glob = LazyImport(\"import glob\")\n",
    "Path = LazyImport(\"from pathlib import Path\")\n",
    " \n",
    "pickle = LazyImport(\"import pickle\")\n",
    " \n",
    "dt = LazyImport(\"import datetime as dt\")\n",
    " \n",
    "tqdm = LazyImport(\"import tqdm\")\n",
    "'''"
   ]
  },
  {
   "cell_type": "code",
   "execution_count": 13,
   "metadata": {},
   "outputs": [
    {
     "data": {
      "text/plain": [
       "' Customised - add more imports by User\\n\\nfrom sklearn.linear_model import LogisticRegression\\nfrom sklearn.metrics import confusion_matrix\\nfrom sklearn.metrics import accuracy_score\\n\\n'"
      ]
     },
     "execution_count": 13,
     "metadata": {},
     "output_type": "execute_result"
    }
   ],
   "source": [
    "''' Customised - add more imports by User\n",
    "\n",
    "from sklearn.linear_model import LogisticRegression\n",
    "from sklearn.metrics import confusion_matrix\n",
    "from sklearn.metrics import accuracy_score\n",
    "\n",
    "'''"
   ]
  },
  {
   "cell_type": "code",
   "execution_count": 14,
   "metadata": {},
   "outputs": [
    {
     "ename": "SyntaxError",
     "evalue": "(unicode error) 'unicodeescape' codec can't decode bytes in position 81-82: truncated \\UXXXXXXXX escape (<ipython-input-14-6a0f8240a3a4>, line 6)",
     "output_type": "error",
     "traceback": [
      "\u001b[1;36m  File \u001b[1;32m\"<ipython-input-14-6a0f8240a3a4>\"\u001b[1;36m, line \u001b[1;32m6\u001b[0m\n\u001b[1;33m    '''\u001b[0m\n\u001b[1;37m      ^\u001b[0m\n\u001b[1;31mSyntaxError\u001b[0m\u001b[1;31m:\u001b[0m (unicode error) 'unicodeescape' codec can't decode bytes in position 81-82: truncated \\UXXXXXXXX escape\n"
     ]
    }
   ],
   "source": [
    "''' if u need to disable Auto Import to Ur NoteBook\n",
    "\n",
    "comment/remove below in file\n",
    "C:\\Users\\DELL\\.ipython\\profile_default\\startup - pyforest_autoimport.py\n",
    "\n",
    "'''"
   ]
  },
  {
   "cell_type": "code",
   "execution_count": null,
   "metadata": {},
   "outputs": [],
   "source": []
  }
 ],
 "metadata": {
  "kernelspec": {
   "display_name": "Python 3",
   "language": "python",
   "name": "python3"
  },
  "language_info": {
   "codemirror_mode": {
    "name": "ipython",
    "version": 3
   },
   "file_extension": ".py",
   "mimetype": "text/x-python",
   "name": "python",
   "nbconvert_exporter": "python",
   "pygments_lexer": "ipython3",
   "version": "3.7.6"
  }
 },
 "nbformat": 4,
 "nbformat_minor": 4
}
