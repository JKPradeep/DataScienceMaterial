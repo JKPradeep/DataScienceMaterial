{
 "cells": [
  {
   "cell_type": "markdown",
   "metadata": {},
   "source": [
    "## Topics Covered\n",
    "- Conditions\n",
    "- Loops\n",
    "- Functions (Inbuilt and Userdefined)\n",
    "\n",
    "////////////////////////////////////////"
   ]
  },
  {
   "cell_type": "markdown",
   "metadata": {},
   "source": [
    "### Conditions\n",
    "* if \n",
    "* if else\n",
    "* if elif elif.. (nested if else)\n",
    "* if elif elif.. else (laddered if else)"
   ]
  },
  {
   "cell_type": "code",
   "execution_count": 1,
   "metadata": {},
   "outputs": [
    {
     "name": "stdout",
     "output_type": "stream",
     "text": [
      "Hello World\n"
     ]
    }
   ],
   "source": [
    "if True:                             # if condition \n",
    "    print(\"Hello World\")"
   ]
  },
  {
   "cell_type": "code",
   "execution_count": 2,
   "metadata": {},
   "outputs": [],
   "source": [
    "if False:\n",
    "    print(\"Hello\")"
   ]
  },
  {
   "cell_type": "code",
   "execution_count": 3,
   "metadata": {
    "scrolled": true
   },
   "outputs": [
    {
     "name": "stdout",
     "output_type": "stream",
     "text": [
      "im out\n"
     ]
    }
   ],
   "source": [
    "a,b = 2,10\n",
    "if a>b:\n",
    "    print(\"Satisfy\")\n",
    "    print(\"Satisfy\")\n",
    "    print(\"Satisfy\")\n",
    "    print(\"Satisfy\")\n",
    "    \n",
    "print(\"im out\")\n"
   ]
  },
  {
   "cell_type": "code",
   "execution_count": 4,
   "metadata": {},
   "outputs": [
    {
     "name": "stdout",
     "output_type": "stream",
     "text": [
      "Satisfy\n",
      "Satisfy\n",
      "Satisfy\n",
      "Satisfy\n",
      "im out\n"
     ]
    }
   ],
   "source": [
    "if a<b:\n",
    "    print(\"Satisfy\")\n",
    "    print(\"Satisfy\")\n",
    "    print(\"Satisfy\")\n",
    "    print(\"Satisfy\")\n",
    "    \n",
    "print(\"im out\")"
   ]
  },
  {
   "cell_type": "code",
   "execution_count": 5,
   "metadata": {},
   "outputs": [
    {
     "name": "stdout",
     "output_type": "stream",
     "text": [
      "lesser\n"
     ]
    }
   ],
   "source": [
    "if a>b:\n",
    "    print(\"greater\")\n",
    "if a<b:\n",
    "    print(\"lesser\")\n",
    "if a==b:\n",
    "    print(\"equal\")"
   ]
  },
  {
   "cell_type": "code",
   "execution_count": 6,
   "metadata": {},
   "outputs": [
    {
     "name": "stdout",
     "output_type": "stream",
     "text": [
      "less or equal\n"
     ]
    }
   ],
   "source": [
    "if a>b:                        # if else\n",
    "    print(\"greater\")\n",
    "else:\n",
    "    print(\"less or equal\")"
   ]
  },
  {
   "cell_type": "code",
   "execution_count": 7,
   "metadata": {},
   "outputs": [
    {
     "name": "stdout",
     "output_type": "stream",
     "text": [
      "x and c high\n"
     ]
    }
   ],
   "source": [
    "x,y = 12,2\n",
    "c,d = 4,2\n",
    "if x>y:                       # if (if else) else \n",
    "    if c>d:\n",
    "        print(\"x and c high\")\n",
    "    else:\n",
    "        print(\"x high and c low\")\n",
    "else:\n",
    "    print(\"x less\")\n",
    "    "
   ]
  },
  {
   "cell_type": "code",
   "execution_count": 8,
   "metadata": {},
   "outputs": [
    {
     "name": "stdout",
     "output_type": "stream",
     "text": [
      "x value: 1\n"
     ]
    }
   ],
   "source": [
    "x = int(input(\"x value: \"))              # function input() : To take input from user - TypeCasting is Done"
   ]
  },
  {
   "cell_type": "code",
   "execution_count": 9,
   "metadata": {},
   "outputs": [
    {
     "name": "stdout",
     "output_type": "stream",
     "text": [
      "x=1\n",
      "x=1 second\n",
      "x=1 third\n"
     ]
    }
   ],
   "source": [
    "if x==1:                                # Here, it gives all output where x =1\n",
    "    print(\"x=1\")\n",
    "if x==2:\n",
    "    print(\"x=2\")\n",
    "if x==1:\n",
    "    print(\"x=1 second\")\n",
    "if x==1:\n",
    "    print(\"x=1 third\")"
   ]
  },
  {
   "cell_type": "code",
   "execution_count": 10,
   "metadata": {},
   "outputs": [
    {
     "name": "stdout",
     "output_type": "stream",
     "text": [
      "x=1\n"
     ]
    }
   ],
   "source": [
    "if x==1:                                # Here, it gives first output(which satisfied) where x =1\n",
    "    print(\"x=1\")\n",
    "elif x==2:\n",
    "    print(\"x=2\")\n",
    "elif x==1:\n",
    "    print(\"x=1 second\")\n",
    "elif x==1:\n",
    "    print(\"x=1 third\")"
   ]
  },
  {
   "cell_type": "code",
   "execution_count": 11,
   "metadata": {},
   "outputs": [
    {
     "name": "stdout",
     "output_type": "stream",
     "text": [
      "x=1\n"
     ]
    }
   ],
   "source": [
    "if x==1:         # Here, it gives first output(which satisfied) where x =1... if not satisfied anything it gives else as output\n",
    "    print(\"x=1\") \n",
    "elif x==2:\n",
    "    print(\"x=2\")\n",
    "elif x==1:\n",
    "    print(\"x=1 second\")\n",
    "elif x==1:\n",
    "    print(\"x=1 third\")\n",
    "else:\n",
    "    print(\"None of above satisfy\")"
   ]
  },
  {
   "cell_type": "markdown",
   "metadata": {},
   "source": [
    "### Loops  \n",
    "Speed execution increases.\n",
    "Condition to be satisfied to run.\n",
    "\n",
    "\n",
    "* while\n",
    "* for\n",
    "\n",
    "Two types of loops:\n",
    "* post test loop : Enter into loop first (do while loop in C lang.)..  - There are no post test loops in python\n",
    "* pre test loop :  for, while, nested loop - First it should satisfy Condition"
   ]
  },
  {
   "cell_type": "markdown",
   "metadata": {},
   "source": [
    "<b>while loop  :</b>\n",
    "* Indefinite loop or conditional loop"
   ]
  },
  {
   "cell_type": "code",
   "execution_count": 12,
   "metadata": {},
   "outputs": [],
   "source": [
    "while  False:\n",
    "    print(\"hI While loop\")"
   ]
  },
  {
   "cell_type": "code",
   "execution_count": null,
   "metadata": {},
   "outputs": [],
   "source": [
    "while  True:             # Infinite loop.. No condition mentioned  - Dont run\n",
    "    print(\"hI While loop\")"
   ]
  },
  {
   "cell_type": "code",
   "execution_count": 13,
   "metadata": {},
   "outputs": [
    {
     "name": "stdout",
     "output_type": "stream",
     "text": [
      "i value: 2\n"
     ]
    },
    {
     "data": {
      "text/plain": [
       "2"
      ]
     },
     "execution_count": 13,
     "metadata": {},
     "output_type": "execute_result"
    }
   ],
   "source": [
    "i = int(input(\"i value: \"))\n",
    "i"
   ]
  },
  {
   "cell_type": "code",
   "execution_count": 14,
   "metadata": {},
   "outputs": [
    {
     "name": "stdout",
     "output_type": "stream",
     "text": [
      "2\n",
      "3\n",
      "4\n",
      "5\n",
      "Out of loop\n"
     ]
    }
   ],
   "source": [
    "'''Doubt - diff : b/w 'for' and 'while' loop '''\n",
    "while i<=5:                         \n",
    "    print(i)\n",
    "    i = i+1\n",
    "print(\"Out of loop\")"
   ]
  },
  {
   "cell_type": "markdown",
   "metadata": {},
   "source": [
    "<b>for loop</b>"
   ]
  },
  {
   "cell_type": "code",
   "execution_count": 15,
   "metadata": {
    "scrolled": true
   },
   "outputs": [
    {
     "ename": "SyntaxError",
     "evalue": "invalid syntax (<ipython-input-15-724ae1f33747>, line 1)",
     "output_type": "error",
     "traceback": [
      "\u001b[1;36m  File \u001b[1;32m\"<ipython-input-15-724ae1f33747>\"\u001b[1;36m, line \u001b[1;32m1\u001b[0m\n\u001b[1;33m    for i<=5,i=0,i++:        # for loop -  boolean condition, initialization, incrementation - Incorrect Format for For loop\u001b[0m\n\u001b[1;37m          ^\u001b[0m\n\u001b[1;31mSyntaxError\u001b[0m\u001b[1;31m:\u001b[0m invalid syntax\n"
     ]
    }
   ],
   "source": [
    "for i<=5,i=0,i++:        # for loop -  boolean condition, initialization, incrementation - Incorrect Format for For loop      \n",
    "    print(i)             # Incorrect Syntax       \n",
    "print(\"Out of loop\")           \n",
    "                         # Syntax in python : check below"
   ]
  },
  {
   "cell_type": "code",
   "execution_count": 16,
   "metadata": {},
   "outputs": [
    {
     "name": "stdout",
     "output_type": "stream",
     "text": [
      "fuits mango\n",
      "fuits apple\n",
      "fuits litchi\n",
      "fuits banana\n"
     ]
    }
   ],
   "source": [
    "fruits = [\"mango\", \"apple\", \"litchi\", \"banana\"]            # List       \n",
    "for j in fruits:\n",
    "    print(\"fuits\",j)"
   ]
  },
  {
   "cell_type": "markdown",
   "metadata": {},
   "source": [
    "<b>break, continue, pass</b>\n",
    "* break : To break the loop - like checkpoint\n",
    "* continue : Leave empty thing with continue\n",
    "* pass (Doubt)"
   ]
  },
  {
   "cell_type": "markdown",
   "metadata": {},
   "source": [
    "### Function :\n",
    "    \n",
    "    * Reduces the code in the program by letting user to access predined features multiple times\n",
    "   \n",
    "    * Function\n",
    "        * 1. Inbuilt Function\n",
    "        * 2. User defined function\n",
    "\n",
    "    * Function : divides the program into bits/ smaller parts\n",
    "    * Can call Function by its name\n",
    "    * Can pass Arguments"
   ]
  },
  {
   "cell_type": "code",
   "execution_count": 17,
   "metadata": {},
   "outputs": [
    {
     "name": "stdout",
     "output_type": "stream",
     "text": [
      "True\n"
     ]
    }
   ],
   "source": [
    "myList = [True, True, True,True, True]  # function all(): All are True ==> True \n",
    "f  =all(myList)               # all() :- Used during Heavy data - To check  All 1/0 i.e., All Columns are filled/Present or not \n",
    "print(f)"
   ]
  },
  {
   "cell_type": "code",
   "execution_count": 18,
   "metadata": {},
   "outputs": [
    {
     "name": "stdout",
     "output_type": "stream",
     "text": [
      "False\n"
     ]
    }
   ],
   "source": [
    "myList1 = [True, True, False,True, True] # all function : \n",
    "g  =all(myList1)\n",
    "print(g)"
   ]
  },
  {
   "cell_type": "code",
   "execution_count": 19,
   "metadata": {},
   "outputs": [
    {
     "name": "stdout",
     "output_type": "stream",
     "text": [
      "False\n",
      "True\n"
     ]
    }
   ],
   "source": [
    "m =bool(0)            # function bool() : Returns the boolean value of a specified object\n",
    "n = bool(1)\n",
    "print(m)\n",
    "print(n)"
   ]
  },
  {
   "cell_type": "code",
   "execution_count": 20,
   "metadata": {},
   "outputs": [
    {
     "data": {
      "text/plain": [
       "5"
      ]
     },
     "execution_count": 20,
     "metadata": {},
     "output_type": "execute_result"
    }
   ],
   "source": [
    "l =  \"Kasi \"       # function len()\n",
    "len(l)"
   ]
  },
  {
   "cell_type": "markdown",
   "metadata": {},
   "source": [
    "<b>User defined function </b> : \n",
    "    * starts with \"def\"\n",
    "    * syntax:   def functionName(Paramaters):"
   ]
  },
  {
   "cell_type": "code",
   "execution_count": 21,
   "metadata": {},
   "outputs": [
    {
     "name": "stdout",
     "output_type": "stream",
     "text": [
      "Out\n"
     ]
    }
   ],
   "source": [
    "def functName():\n",
    "    print(\"Im learning python\")\n",
    "print(\"Out\")"
   ]
  },
  {
   "cell_type": "code",
   "execution_count": 22,
   "metadata": {},
   "outputs": [
    {
     "name": "stdout",
     "output_type": "stream",
     "text": [
      "Im learning python\n"
     ]
    }
   ],
   "source": [
    "functName()"
   ]
  },
  {
   "cell_type": "code",
   "execution_count": 23,
   "metadata": {},
   "outputs": [
    {
     "name": "stderr",
     "output_type": "stream",
     "text": [
      "C:\\Users\\DELL\\anaconda3\\lib\\site-packages\\ipykernel_launcher.py:2: DeprecationWarning: scipy.add is deprecated and will be removed in SciPy 2.0.0, use numpy.add instead\n",
      "  \n"
     ]
    },
    {
     "data": {
      "text/plain": [
       "5"
      ]
     },
     "execution_count": 23,
     "metadata": {},
     "output_type": "execute_result"
    }
   ],
   "source": [
    "from scipy import add           # scipy(scientific python library) :-import scipy\n",
    "add(2,3)                        # One way for add() function using scipy library"
   ]
  },
  {
   "cell_type": "code",
   "execution_count": 24,
   "metadata": {},
   "outputs": [],
   "source": [
    "def addTwo(r,s):                # Second way using User Defined function\n",
    "    t = r+s\n",
    "    print(t)"
   ]
  },
  {
   "cell_type": "code",
   "execution_count": 25,
   "metadata": {},
   "outputs": [
    {
     "name": "stdout",
     "output_type": "stream",
     "text": [
      "5\n"
     ]
    }
   ],
   "source": [
    "addTwo(2,3)"
   ]
  },
  {
   "cell_type": "code",
   "execution_count": 26,
   "metadata": {},
   "outputs": [
    {
     "name": "stdout",
     "output_type": "stream",
     "text": [
      "30\n"
     ]
    }
   ],
   "source": [
    "a1 = 10\n",
    "b1 = 20\n",
    "addTwo(a1,b1)"
   ]
  },
  {
   "cell_type": "code",
   "execution_count": 27,
   "metadata": {},
   "outputs": [
    {
     "name": "stdout",
     "output_type": "stream",
     "text": [
      "95\n"
     ]
    }
   ],
   "source": [
    "u,v = 40,55\n",
    "addTwo(u,v)"
   ]
  },
  {
   "cell_type": "code",
   "execution_count": 28,
   "metadata": {},
   "outputs": [],
   "source": [
    "def addTwoReturn(p,q):\n",
    "    s = p+q\n",
    "    return s"
   ]
  },
  {
   "cell_type": "code",
   "execution_count": 30,
   "metadata": {},
   "outputs": [
    {
     "data": {
      "text/plain": [
       "22"
      ]
     },
     "execution_count": 30,
     "metadata": {},
     "output_type": "execute_result"
    }
   ],
   "source": [
    "addTwoReturn(8,14)"
   ]
  },
  {
   "cell_type": "markdown",
   "metadata": {},
   "source": [
    "#### Positional Arguments & Keyword Arguments in a Function"
   ]
  },
  {
   "cell_type": "code",
   "execution_count": 5,
   "metadata": {},
   "outputs": [],
   "source": [
    "def hello(name,age=29):\n",
    "    print(\"My name is {} and age is {}\".format(name,age))"
   ]
  },
  {
   "cell_type": "code",
   "execution_count": 6,
   "metadata": {},
   "outputs": [
    {
     "name": "stdout",
     "output_type": "stream",
     "text": [
      "My name is Pradeep and age is 29\n"
     ]
    }
   ],
   "source": [
    "hello('Pradeep')"
   ]
  },
  {
   "cell_type": "markdown",
   "metadata": {},
   "source": [
    "Here name is Positional Argument and\n",
    "age is Keyword Argument"
   ]
  },
  {
   "cell_type": "code",
   "execution_count": 10,
   "metadata": {},
   "outputs": [],
   "source": [
    "def welcome(*args, **kwargs):\n",
    "    print(args)\n",
    "    print(kwargs)"
   ]
  },
  {
   "cell_type": "code",
   "execution_count": 12,
   "metadata": {},
   "outputs": [
    {
     "name": "stdout",
     "output_type": "stream",
     "text": [
      "('Pradeep', 'Jalla')\n",
      "{'age': 27, 'dob': 1993}\n"
     ]
    }
   ],
   "source": [
    "welcome('Pradeep','Jalla',age=27,dob=1993)"
   ]
  },
  {
   "cell_type": "code",
   "execution_count": 13,
   "metadata": {},
   "outputs": [],
   "source": [
    "lst = ('Pradeep', 'Jalla')\n",
    "dict_args = {'age': 27, 'dob': 1993}"
   ]
  },
  {
   "cell_type": "code",
   "execution_count": 14,
   "metadata": {},
   "outputs": [
    {
     "name": "stdout",
     "output_type": "stream",
     "text": [
      "(('Pradeep', 'Jalla'), {'age': 27, 'dob': 1993})\n",
      "{}\n"
     ]
    }
   ],
   "source": [
    "welcome(lst, dict_args)"
   ]
  },
  {
   "cell_type": "markdown",
   "metadata": {},
   "source": [
    "Need to Specify Positional and Keyword Arguments using * and **"
   ]
  },
  {
   "cell_type": "code",
   "execution_count": 15,
   "metadata": {},
   "outputs": [
    {
     "name": "stdout",
     "output_type": "stream",
     "text": [
      "('Pradeep', 'Jalla')\n",
      "{'age': 27, 'dob': 1993}\n"
     ]
    }
   ],
   "source": [
    "welcome(*lst, **dict_args)"
   ]
  },
  {
   "cell_type": "code",
   "execution_count": null,
   "metadata": {},
   "outputs": [],
   "source": []
  },
  {
   "cell_type": "markdown",
   "metadata": {},
   "source": [
    "#### Return Sum of Even's and Odd No's"
   ]
  },
  {
   "cell_type": "code",
   "execution_count": 16,
   "metadata": {},
   "outputs": [],
   "source": [
    "ListNo = [1,2,3,4,5,6,7]"
   ]
  },
  {
   "cell_type": "code",
   "execution_count": 17,
   "metadata": {},
   "outputs": [],
   "source": [
    "def evenOddSum(List):\n",
    "    even_sum=0;\n",
    "    odd_sum=0;\n",
    "    \n",
    "    for i in List:\n",
    "        if i%2==0:\n",
    "            even_sum=even_sum+i\n",
    "        else:\n",
    "            odd_sum=odd_sum+i\n",
    "    return even_sum, odd_sum"
   ]
  },
  {
   "cell_type": "code",
   "execution_count": 18,
   "metadata": {},
   "outputs": [
    {
     "data": {
      "text/plain": [
       "(12, 16)"
      ]
     },
     "execution_count": 18,
     "metadata": {},
     "output_type": "execute_result"
    }
   ],
   "source": [
    "evenOddSum(ListNo)"
   ]
  },
  {
   "cell_type": "code",
   "execution_count": null,
   "metadata": {},
   "outputs": [],
   "source": []
  }
 ],
 "metadata": {
  "kernelspec": {
   "display_name": "Python 3",
   "language": "python",
   "name": "python3"
  },
  "language_info": {
   "codemirror_mode": {
    "name": "ipython",
    "version": 3
   },
   "file_extension": ".py",
   "mimetype": "text/x-python",
   "name": "python",
   "nbconvert_exporter": "python",
   "pygments_lexer": "ipython3",
   "version": "3.7.6"
  }
 },
 "nbformat": 4,
 "nbformat_minor": 4
}
