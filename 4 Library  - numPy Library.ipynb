{
 "cells": [
  {
   "cell_type": "markdown",
   "metadata": {},
   "source": [
    "# Numpy\n",
    "- NumPy is a general-purpose array-processing package.\n",
    "- It provides a high-performance multidimensional array object, and tools for working with these arrays.\n",
    "- It is the fundamental package for scientific computing with Python"
   ]
  },
  {
   "cell_type": "markdown",
   "metadata": {},
   "source": [
    "    * <b>numpy</b> : Fast, Convenient, less memory\n",
    "    * Advantage of numpy: It consists of n dimensional array object"
   ]
  },
  {
   "cell_type": "markdown",
   "metadata": {},
   "source": [
    "#### Array\n",
    "- An array is a data structure that stores values of same datatype. In python, this is the main difference between arrays and lists.\n",
    "\n",
    "- While python lists can contain values of different datatypes, whereas python arrays can only contain values corresponding to same datatype."
   ]
  },
  {
   "cell_type": "markdown",
   "metadata": {},
   "source": [
    "<b>cmd</b> :  For Suppose numpy library is not installed, install manually\n",
    "- pip install numpy (or)\n",
    "- conda install numpy"
   ]
  },
  {
   "cell_type": "markdown",
   "metadata": {},
   "source": [
    "- Initially <b>import numpy</b> library\n",
    "- import numpy as np\n",
    "- np.TAB button --> Inbuilt functions   --> To use this, Need to import for every cell"
   ]
  },
  {
   "cell_type": "code",
   "execution_count": 1,
   "metadata": {},
   "outputs": [
    {
     "name": "stdout",
     "output_type": "stream",
     "text": [
      "arr array is : [[1 2 3]\n",
      " [4 5 6]]\n",
      "Dimensional :  2\n",
      "Byte Size :  4\n",
      "No. of elements :  6\n",
      "No. of Rows and Columns :  (2, 3)\n",
      "Reshaping to 2 x 3 array :  [[1 2]\n",
      " [3 4]\n",
      " [5 6]]\n",
      "arr array is :  [[1 2 3]\n",
      " [4 5 6]]\n"
     ]
    }
   ],
   "source": [
    "import numpy as np\n",
    "arr = np.array([(1,2,3),(4,5,6)])                      # Creating array as Matrix of 2 Rows & 3 Columns\n",
    "print(\"arr array is :\", arr)\n",
    "\n",
    "print(\"Dimensional : \", arr.ndim)                      # arr.ndim - 2d matrix\n",
    "print(\"Byte Size : \", arr.itemsize)                    # arr.itemsize - Gives Byte Size     \n",
    "print(\"No. of elements : \", arr.size)                  # arr.size  - Gives No. of elements\n",
    "print(\"No. of Rows and Columns : \", arr.shape)         # arr.shape - Gives No. of Rows and Columns\n",
    "print(\"Reshaping to 2 x 3 array : \", arr.reshape(3,2)) # arr.reshape(rows, columns) ==> Changes No.of Rows and Columns\n",
    "\n",
    "print(\"arr array is : \", arr)"
   ]
  },
  {
   "cell_type": "code",
   "execution_count": 2,
   "metadata": {},
   "outputs": [
    {
     "name": "stdout",
     "output_type": "stream",
     "text": [
      "list is :  [7, 4, 6, 8, 9, 2]\n",
      "type is:  <class 'list'>\n",
      "\n",
      "array of a :  [7 4 6 8 9 2]\n",
      "type of a :  <class 'numpy.ndarray'>\n",
      "dimension of a :  1\n",
      "Byte Size of a :  4\n",
      "No. of elements of a : 6\n",
      "No. of Rows and Columns of a:  (6,)\n",
      "Reshaping a into 2 x 3 array :  [[7 4 6]\n",
      " [8 9 2]]\n",
      "Reshaping a into 6 x 1 array :  [[7]\n",
      " [4]\n",
      " [6]\n",
      " [8]\n",
      " [9]\n",
      " [2]]\n",
      "array of q :  [[7]\n",
      " [4]\n",
      " [6]\n",
      " [8]\n",
      " [9]\n",
      " [2]]\n",
      "dimension of q :  2\n",
      "No. of Rows and Columns of q:  (6, 1)\n",
      "\n",
      "array of c :  [[ 7  4  6  8  9  2]\n",
      " [ 2  4  3  1  8 11]\n",
      " [ 1  3 56  6  7  5]]\n",
      "dimension of c :  2\n",
      "Byte Size of c :  4\n",
      "No. of elements of c : 18\n",
      "No. of Rows and Columns of c :  (3, 6)\n",
      "Reshaping c into 6 x 3 array :  [[ 7  4  6]\n",
      " [ 8  9  2]\n",
      " [ 2  4  3]\n",
      " [ 1  8 11]\n",
      " [ 1  3 56]\n",
      " [ 6  7  5]]\n",
      "Reshaping c into 2 x 9 array :  [[ 7  4  6  8  9  2  2  4  3]\n",
      " [ 1  8 11  1  3 56  6  7  5]]\n",
      "\n",
      "Max of c array :  56\n",
      "Min of c array :  1\n",
      "Mean of c array :  7.944444444444445\n",
      "Sum of c array :  143\n"
     ]
    }
   ],
   "source": [
    "import numpy as np\n",
    "lst = [7,4,6,8,9,2]\n",
    "print(\"list is : \", lst)\n",
    "print(\"type is: \", type(lst))                       # List\n",
    "\n",
    "print(\"\")\n",
    "\n",
    "a = np.array(lst)                                   # array : Combination of Lists.  \n",
    "print(\"array of a : \", a)\n",
    "print(\"type of a : \", type(a)) \n",
    "print(\"dimension of a : \", a.ndim)                  # Row Matrix : 1-d array        \n",
    "print(\"Byte Size of a : \", a.itemsize)                  \n",
    "print(\"No. of elements of a :\", a.size)                      \n",
    "print(\"No. of Rows and Columns of a: \", a.shape)    # 1-d shape - *** Check (Colummn,..)  \n",
    "print(\"Reshaping a into 2 x 3 array : \", a.reshape(2,3))\n",
    "print(\"Reshaping a into 6 x 1 array : \", a.reshape(6,1))\n",
    "q = a.reshape(6,1)\n",
    "print(\"array of q : \", q)\n",
    "print(\"dimension of q : \", q.ndim)                  # Column matrix : 2-d array \n",
    "print(\"No. of Rows and Columns of q: \", q.shape)    # 2-d shape -  Check (Row, Colummn)  \n",
    "\n",
    "print(\"\")\n",
    "\n",
    "lst2 = [2,4,3,1,8,11]\n",
    "lst3 = [1,3,56,6,7,5]\n",
    "\n",
    "c = np.array([lst, lst2, lst3])   # Nested Array\n",
    "print(\"array of c : \", c)\n",
    "print(\"dimension of c : \", c.ndim)\n",
    "print(\"Byte Size of c : \", c.itemsize)\n",
    "print(\"No. of elements of c :\", c.size)\n",
    "print(\"No. of Rows and Columns of c : \", c.shape)                    \n",
    "print(\"Reshaping c into 6 x 3 array : \", c.reshape(6,3)) \n",
    "print(\"Reshaping c into 2 x 9 array : \", c.reshape(2,9)) \n",
    "\n",
    "\n",
    "print(\"\")\n",
    "\n",
    "print(\"Max of c array : \", c.max())          # arr.max() - Considers all elements in an array irrespective of rows\n",
    "print(\"Min of c array : \", c.min())          # arr.min() - Considers all elements in an array irrespective of rows\n",
    "print(\"Mean of c array : \", c.mean())        # arr.mean()- Considers all elements in an array irrespective of rows\n",
    "print(\"Sum of c array : \", c.sum())          # arr.sum() - Considers all elements in an array irrespective of rows"
   ]
  },
  {
   "cell_type": "markdown",
   "metadata": {},
   "source": [
    "- 1 d -   []    # One Square Bracket\n",
    "- 2 d -  [[ ]]  # Two Square Brackets\n",
    "- 3 d - [[[ ]]] # Three Square Brackets - 3 dimensional array"
   ]
  },
  {
   "cell_type": "code",
   "execution_count": 3,
   "metadata": {},
   "outputs": [
    {
     "name": "stdout",
     "output_type": "stream",
     "text": [
      "3 dimensional array [[[1 2]\n",
      "  [3 4]]\n",
      "\n",
      " [[5 6]\n",
      "  [7 8]]]\n",
      "Dimension  3\n",
      "First element in 3d array  [7 8]\n"
     ]
    },
    {
     "data": {
      "text/plain": [
       "array([[[1, 2],\n",
       "        [3, 4]],\n",
       "\n",
       "       [[5, 6],\n",
       "        [7, 8]]])"
      ]
     },
     "execution_count": 3,
     "metadata": {},
     "output_type": "execute_result"
    }
   ],
   "source": [
    "import numpy as np\n",
    "ThredimAr = np.array([[(1,2),(3,4)],[(5,6),(7,8)]])\n",
    "print(\"3 dimensional array\", ThredimAr)\n",
    "print(\"Dimension \", ThredimAr.ndim)\n",
    "print(\"First element in 3d array \", ThredimAr[1,1])\n",
    "ThredimAr"
   ]
  },
  {
   "cell_type": "code",
   "execution_count": 4,
   "metadata": {},
   "outputs": [
    {
     "name": "stdout",
     "output_type": "stream",
     "text": [
      "u array :  [[ 1 12  3]\n",
      " [24  5  6]\n",
      " [ 7  8 39]]\n",
      "v array :  [[90 87 67]\n",
      " [33 66 33]\n",
      " [31 77 88]]\n",
      "addArr :  [[ 91  99  70]\n",
      " [ 57  71  39]\n",
      " [ 38  85 127]]\n",
      "subArr :  [[-89 -75 -64]\n",
      " [ -9 -61 -27]\n",
      " [-24 -69 -49]]\n",
      "mulArr :  [[  90 1044  201]\n",
      " [ 792  330  198]\n",
      " [ 217  616 3432]]\n",
      "divArr :  [[0.01111111 0.13793103 0.04477612]\n",
      " [0.72727273 0.07575758 0.18181818]\n",
      " [0.22580645 0.1038961  0.44318182]]\n",
      "sin of u :  [[ 0.84147098 -0.53657292  0.14112001]\n",
      " [-0.90557836 -0.95892427 -0.2794155 ]\n",
      " [ 0.6569866   0.98935825  0.96379539]]\n",
      "log of u :  [[0.         2.48490665 1.09861229]\n",
      " [3.17805383 1.60943791 1.79175947]\n",
      " [1.94591015 2.07944154 3.66356165]]\n",
      "\n",
      "u array :  [[ 1 12  3]\n",
      " [24  5 29]\n",
      " [ 7  8 39]]\n",
      "v array :  [[90 87 67]\n",
      " [33 66 33]\n",
      " [31 77 88]]\n",
      "u array elements lessthan 20  [[ True  True  True]\n",
      " [False  True False]\n",
      " [ True  True False]]\n",
      "all :  False\n",
      "any :  True\n",
      "Sorting for U :  None\n",
      "u array :  [[ 1  3 12]\n",
      " [ 5 24 29]\n",
      " [ 7  8 39]]\n",
      "\n",
      "v array :  [[90 87 67]\n",
      " [33 66 33]\n",
      " [31 77 88]]\n",
      "Combine Vertically [[ 1  3 12]\n",
      " [ 5 24 29]\n",
      " [ 7  8 39]\n",
      " [90 87 67]\n",
      " [33 66 33]\n",
      " [31 77 88]]\n",
      "Combine Horizontally  [[ 1  3 12 90 87 67]\n",
      " [ 5 24 29 33 66 33]\n",
      " [ 7  8 39 31 77 88]]\n",
      "Convert u into 1d array :  [ 1  3 12  5 24 29  7  8 39]\n",
      "Convert u  into 1d array Horizontally:  [ 1  3 12  5 24 29  7  8 39]\n",
      "Convert u into 1d array Vertically:  [ 1  5  7  3 24  8 12 29 39]\n"
     ]
    }
   ],
   "source": [
    "u = np.array([(1,12,3),(24,5,6),(7,8,39)])\n",
    "print(\"u array : \", u)\n",
    "v = np.array([(90,87,67),(33,66,33),(31,77,88)])\n",
    "print(\"v array : \", v)\n",
    "print(\"addArr : \", u + v)        # Array Addition : arr + arr\n",
    "print(\"subArr : \", u - v)        # Array Subtract : -\n",
    "print(\"mulArr : \", u*v)          # Array Multiply : *\n",
    "print(\"divArr : \",  u/v)         # Array Division : /\n",
    "print(\"sin of u : \", np.sin(u))  # np.sin(arr)\n",
    "print(\"log of u : \", np.log(u))  # np.log(arr)\n",
    "\n",
    "u[1,2]= 29                       # Arrays are Mutable(Editable)\n",
    "\n",
    "print(\"\")      \n",
    "\n",
    "print(\"u array : \", u)\n",
    "print(\"v array : \", v)     \n",
    "\n",
    "print(\"u array elements lessthan 20 \", u<20)\n",
    "print(\"all : \",(u<3).all())                     # arr.all()\n",
    "print(\"any : \", (u<3).any())                    # arr.any()\n",
    "print(\"Sorting for U : \", u.sort())             # arr.sort() : Sorted and Stored in same array\n",
    "\n",
    "print(\"u array : \", u)\n",
    "print(\"\")\n",
    "print(\"v array : \", v)   \n",
    "\n",
    "print(\"Combine Vertically\", np.vstack((u,v)))    # np.vstack(arr, arr) : Combining two matrices in Vertically\n",
    "print(\"Combine Horizontally \", np.hstack((u,v))) # np.hstack(arr, arr) : Combining two matrices in Horizontally\n",
    "print(\"Convert u into 1d array : \", np.ravel(u)) # np.ravel(arr) : Convert 2d -> 1d --> ravel converts Only Horizontal Manner\n",
    "print(\"Convert u  into 1d array Horizontally: \", u.flatten())  \n",
    "                             # arr.flatten() : Similar to ravel() - flatten restuctures in both Row wise and Column wise    \n",
    "print(\"Convert u into 1d array Vertically: \", u.flatten(order = 'F'))\n",
    "                             # default flatten(order = 'F') positions elements in Horizontal Manner (order =F, Vertical Manner)"
   ]
  },
  {
   "cell_type": "code",
   "execution_count": 5,
   "metadata": {},
   "outputs": [
    {
     "data": {
      "text/plain": [
       "array(['helloWORLD', 'haIkASI'], dtype='<U10')"
      ]
     },
     "execution_count": 5,
     "metadata": {},
     "output_type": "execute_result"
    }
   ],
   "source": [
    "k = np.char.add(['hello','haI'], ['WORLD','kASI'])    #Joins\n",
    "k"
   ]
  },
  {
   "cell_type": "code",
   "execution_count": 6,
   "metadata": {},
   "outputs": [
    {
     "data": {
      "text/plain": [
       "array(['Helloworld', 'Haikasi'], dtype='<U10')"
      ]
     },
     "execution_count": 6,
     "metadata": {},
     "output_type": "execute_result"
    }
   ],
   "source": [
    "np.char.capitalize(k)     # np.char.capitalize(arr) - First letter Capital"
   ]
  },
  {
   "cell_type": "code",
   "execution_count": 7,
   "metadata": {},
   "outputs": [
    {
     "data": {
      "text/plain": [
       "array(['HELLOWORLD', 'HAIKASI'], dtype='<U10')"
      ]
     },
     "execution_count": 7,
     "metadata": {},
     "output_type": "execute_result"
    }
   ],
   "source": [
    "np.char.upper(k)          # np.char.upper(arr) - All letter in UpperCase letters"
   ]
  },
  {
   "cell_type": "code",
   "execution_count": 8,
   "metadata": {
    "scrolled": true
   },
   "outputs": [
    {
     "ename": "ValueError",
     "evalue": "shape mismatch: objects cannot be broadcast to a single shape",
     "output_type": "error",
     "traceback": [
      "\u001b[1;31m---------------------------------------------------------------------------\u001b[0m",
      "\u001b[1;31mValueError\u001b[0m                                Traceback (most recent call last)",
      "\u001b[1;32m<ipython-input-8-42ea22f1aa0a>\u001b[0m in \u001b[0;36m<module>\u001b[1;34m\u001b[0m\n\u001b[1;32m----> 1\u001b[1;33m \u001b[0ml\u001b[0m \u001b[1;33m=\u001b[0m \u001b[0mnp\u001b[0m\u001b[1;33m.\u001b[0m\u001b[0mchar\u001b[0m\u001b[1;33m.\u001b[0m\u001b[0madd\u001b[0m\u001b[1;33m(\u001b[0m\u001b[1;33m[\u001b[0m\u001b[1;34m'hello'\u001b[0m\u001b[1;33m,\u001b[0m\u001b[1;34m'haI'\u001b[0m\u001b[1;33m,\u001b[0m\u001b[1;34m'byw'\u001b[0m\u001b[1;33m]\u001b[0m\u001b[1;33m,\u001b[0m \u001b[1;33m[\u001b[0m\u001b[1;34m'WORLD'\u001b[0m\u001b[1;33m,\u001b[0m\u001b[1;34m'kASI'\u001b[0m\u001b[1;33m]\u001b[0m\u001b[1;33m)\u001b[0m    \u001b[1;31m# Joins -  Not possible\u001b[0m\u001b[1;33m\u001b[0m\u001b[1;33m\u001b[0m\u001b[0m\n\u001b[0m\u001b[0;32m      2\u001b[0m \u001b[0ml\u001b[0m\u001b[1;33m\u001b[0m\u001b[1;33m\u001b[0m\u001b[0m\n",
      "\u001b[1;32m<__array_function__ internals>\u001b[0m in \u001b[0;36madd\u001b[1;34m(*args, **kwargs)\u001b[0m\n",
      "\u001b[1;32m~\\anaconda3\\lib\\site-packages\\numpy\\core\\defchararray.py\u001b[0m in \u001b[0;36madd\u001b[1;34m(x1, x2)\u001b[0m\n\u001b[0;32m    314\u001b[0m     \u001b[0mout_size\u001b[0m \u001b[1;33m=\u001b[0m \u001b[0m_get_num_chars\u001b[0m\u001b[1;33m(\u001b[0m\u001b[0marr1\u001b[0m\u001b[1;33m)\u001b[0m \u001b[1;33m+\u001b[0m \u001b[0m_get_num_chars\u001b[0m\u001b[1;33m(\u001b[0m\u001b[0marr2\u001b[0m\u001b[1;33m)\u001b[0m\u001b[1;33m\u001b[0m\u001b[1;33m\u001b[0m\u001b[0m\n\u001b[0;32m    315\u001b[0m     \u001b[0mdtype\u001b[0m \u001b[1;33m=\u001b[0m \u001b[0m_use_unicode\u001b[0m\u001b[1;33m(\u001b[0m\u001b[0marr1\u001b[0m\u001b[1;33m,\u001b[0m \u001b[0marr2\u001b[0m\u001b[1;33m)\u001b[0m\u001b[1;33m\u001b[0m\u001b[1;33m\u001b[0m\u001b[0m\n\u001b[1;32m--> 316\u001b[1;33m     \u001b[1;32mreturn\u001b[0m \u001b[0m_vec_string\u001b[0m\u001b[1;33m(\u001b[0m\u001b[0marr1\u001b[0m\u001b[1;33m,\u001b[0m \u001b[1;33m(\u001b[0m\u001b[0mdtype\u001b[0m\u001b[1;33m,\u001b[0m \u001b[0mout_size\u001b[0m\u001b[1;33m)\u001b[0m\u001b[1;33m,\u001b[0m \u001b[1;34m'__add__'\u001b[0m\u001b[1;33m,\u001b[0m \u001b[1;33m(\u001b[0m\u001b[0marr2\u001b[0m\u001b[1;33m,\u001b[0m\u001b[1;33m)\u001b[0m\u001b[1;33m)\u001b[0m\u001b[1;33m\u001b[0m\u001b[1;33m\u001b[0m\u001b[0m\n\u001b[0m\u001b[0;32m    317\u001b[0m \u001b[1;33m\u001b[0m\u001b[0m\n\u001b[0;32m    318\u001b[0m \u001b[1;33m\u001b[0m\u001b[0m\n",
      "\u001b[1;31mValueError\u001b[0m: shape mismatch: objects cannot be broadcast to a single shape"
     ]
    }
   ],
   "source": [
    "l = np.char.add(['hello','haI','byw'], ['WORLD','kASI'])    # Joins -  Not possible\n",
    "l"
   ]
  },
  {
   "cell_type": "markdown",
   "metadata": {},
   "source": [
    "#### Indexing"
   ]
  },
  {
   "cell_type": "code",
   "execution_count": 9,
   "metadata": {
    "scrolled": true
   },
   "outputs": [
    {
     "name": "stdout",
     "output_type": "stream",
     "text": [
      "[[ 1  3  5  6  9]\n",
      " [ 2  5 32  8 10]\n",
      " [13 45  7 43 90]]\n",
      "<class 'numpy.ndarray'>\n"
     ]
    },
    {
     "data": {
      "text/plain": [
       "array([[ 1,  3,  5,  6,  9],\n",
       "       [ 2,  5, 32,  8, 10],\n",
       "       [13, 45,  7, 43, 90]])"
      ]
     },
     "execution_count": 9,
     "metadata": {},
     "output_type": "execute_result"
    }
   ],
   "source": [
    "i = np.array([(1,3,5,6,9),(2,5,32,8,10),(13,45,7,43,90)]) # Array: Combination of Tuples\n",
    "print(i)\n",
    "print(type(i))\n",
    "i"
   ]
  },
  {
   "cell_type": "code",
   "execution_count": 10,
   "metadata": {},
   "outputs": [
    {
     "name": "stdout",
     "output_type": "stream",
     "text": [
      "[[ 1  3  5  6  9]\n",
      " [ 2  5 32  8 10]\n",
      " [13 45  7 43 90]]\n",
      "<class 'numpy.ndarray'>\n"
     ]
    },
    {
     "data": {
      "text/plain": [
       "array([[ 1,  3,  5,  6,  9],\n",
       "       [ 2,  5, 32,  8, 10],\n",
       "       [13, 45,  7, 43, 90]])"
      ]
     },
     "execution_count": 10,
     "metadata": {},
     "output_type": "execute_result"
    }
   ],
   "source": [
    "j = np.array([[1,3,5,6,9],[2,5,32,8,10],[13,45,7,43,90]]) ## Array: Combination of Tuples\n",
    "print(i)\n",
    "print(type(i))\n",
    "i Array: Combination of Lists\n",
    "print(j)\n",
    "print(type(j))\n",
    "j"
   ]
  },
  {
   "cell_type": "code",
   "execution_count": 11,
   "metadata": {
    "scrolled": true
   },
   "outputs": [
    {
     "name": "stdout",
     "output_type": "stream",
     "text": [
      "43\n",
      "[[ 1  3  5  6  9]\n",
      " [ 2  5 32  8 10]\n",
      " [13 45  7 43 90]]\n",
      "\n",
      "[[32  8 10]\n",
      " [ 7 43 90]]\n"
     ]
    }
   ],
   "source": [
    "print(j[2, 3])         # Indexing for Rows/Columns [:,:] -  Starts from 0,1,2,....  In j matrix --> 2nd Row & 3rd column element\n",
    "print(j[ : , : ])      # First : for Rows      ;;;    Second : for Columns\n",
    "\n",
    "print(\"\")\n",
    "\n",
    "print(j[1: , 2:])"
   ]
  },
  {
   "cell_type": "code",
   "execution_count": 12,
   "metadata": {},
   "outputs": [
    {
     "name": "stdout",
     "output_type": "stream",
     "text": [
      "[ 2  6 10 14 18]\n",
      "<class 'numpy.ndarray'>\n"
     ]
    }
   ],
   "source": [
    "import numpy as np\n",
    "r = np.arange(2,20,4)    # np.arange(StartNo., EndNo., StepSize)\n",
    "print(r)\n",
    "print(type(r))"
   ]
  },
  {
   "cell_type": "code",
   "execution_count": 13,
   "metadata": {
    "scrolled": true
   },
   "outputs": [
    {
     "name": "stdout",
     "output_type": "stream",
     "text": [
      "[ 0  1  2  3  4  5  6  7  8  9 10 11]\n",
      "<class 'numpy.ndarray'>\n",
      "\n",
      "[[ 0  1  2  3]\n",
      " [ 4  5  6  7]\n",
      " [ 8  9 10 11]]\n",
      "<class 'numpy.ndarray'>\n"
     ]
    }
   ],
   "source": [
    "import numpy as np\n",
    "s = np.arange(12)       # np.arange(n) function --> all no.s starting with 0 to n-1\n",
    "print(s)\n",
    "print(type(s))\n",
    "\n",
    "print(\"\")\n",
    "\n",
    "s = s.reshape(3,4)\n",
    "print(s)\n",
    "print(type(s))"
   ]
  },
  {
   "cell_type": "code",
   "execution_count": 14,
   "metadata": {},
   "outputs": [
    {
     "data": {
      "text/plain": [
       "array([[0, 1, 2, 3, 4],\n",
       "       [5, 6, 7, 8, 9]])"
      ]
     },
     "execution_count": 14,
     "metadata": {},
     "output_type": "execute_result"
    }
   ],
   "source": [
    "t = np.arange(10).reshape(2,5)\n",
    "t"
   ]
  },
  {
   "cell_type": "code",
   "execution_count": 15,
   "metadata": {},
   "outputs": [
    {
     "name": "stdout",
     "output_type": "stream",
     "text": [
      "[ 2.          2.16326531  2.32653061  2.48979592  2.65306122  2.81632653\n",
      "  2.97959184  3.14285714  3.30612245  3.46938776  3.63265306  3.79591837\n",
      "  3.95918367  4.12244898  4.28571429  4.44897959  4.6122449   4.7755102\n",
      "  4.93877551  5.10204082  5.26530612  5.42857143  5.59183673  5.75510204\n",
      "  5.91836735  6.08163265  6.24489796  6.40816327  6.57142857  6.73469388\n",
      "  6.89795918  7.06122449  7.2244898   7.3877551   7.55102041  7.71428571\n",
      "  7.87755102  8.04081633  8.20408163  8.36734694  8.53061224  8.69387755\n",
      "  8.85714286  9.02040816  9.18367347  9.34693878  9.51020408  9.67346939\n",
      "  9.83673469 10.        ]\n",
      "(50,)\n"
     ]
    }
   ],
   "source": [
    "import numpy as np\n",
    "dl = np.linspace(2,10,50) # np.linspace(start, end, count) -Gives 50 values in between 2 to 10 with Equal distance-(10-2)/(50-1)\n",
    "print(dl)\n",
    "print(dl.shape)"
   ]
  },
  {
   "cell_type": "code",
   "execution_count": 16,
   "metadata": {},
   "outputs": [
    {
     "name": "stdout",
     "output_type": "stream",
     "text": [
      "[4 7 2 8 3 9]\n",
      "\n",
      "[  4   7   2 100 100 100]\n",
      "\n",
      "[  4   7   2 100 100 100]\n",
      "[  4   7   2 100 100 100]\n",
      "\n",
      "[  4   7   2 600 600 600]\n",
      "[  4   7   2 600 600 600]\n",
      "\n",
      "[  4   7   2 800 800 800]\n",
      "[  4   7   2 600 600 600]\n"
     ]
    }
   ],
   "source": [
    "cp = np.array([4,7,2,8,3,9])\n",
    "print(cp)\n",
    "\n",
    "print(\"\")\n",
    "\n",
    "cp[3 : ] = 100    # Broadcasting\n",
    "print(cp) \n",
    "\n",
    "print(\"\")\n",
    "\n",
    "cp1 = cp\n",
    "print(cp)\n",
    "print(cp1)\n",
    "\n",
    "print(\"\")\n",
    "\n",
    "cp1[3 : ] = 600   # Here we changed in cp1, but it reflected for cp also. \n",
    "                  # Reason : Array is a Reference type (Generally There are 2 Types -  Value type and Reference type)\n",
    "                             # Reference type - Shares same memory location -  So one operation reflects the Other\n",
    "                             # Value type - Shares different memory locations -  So one operation doesn't reflects the Other\n",
    "                  # Conclusion : Here it is Array. One Operation effecting the other\n",
    "                  # Overcome : Use copy() function \n",
    "print(cp1)\n",
    "print(cp)\n",
    "\n",
    "print(\"\")\n",
    "\n",
    "cp2 = cp1.copy()  # arr.copy() function : Allocates memory in different locations - Doesn't effect other \n",
    "cp2[3 :] = 800\n",
    "print(cp2)\n",
    "print(cp1)"
   ]
  },
  {
   "cell_type": "code",
   "execution_count": 17,
   "metadata": {},
   "outputs": [
    {
     "name": "stdout",
     "output_type": "stream",
     "text": [
      "[200 400 344 765 890]\n",
      "[ True False  True False False]\n",
      "[200 344]\n",
      "[ 400  800  688 1530 1780]\n",
      "[100.  200.  172.  382.5 445. ]\n"
     ]
    }
   ],
   "source": [
    "### Some Conditions useful in Exploratory DataAnalysis\n",
    "\n",
    "d = np.array([200,400,344, 765,890])\n",
    "print(d)\n",
    "print(d<400)\n",
    "print(d[d<400])  # Get particular elements in Array, <400\n",
    "\n",
    "print(d*2)\n",
    "print(d/2)"
   ]
  },
  {
   "cell_type": "code",
   "execution_count": 18,
   "metadata": {},
   "outputs": [
    {
     "name": "stdout",
     "output_type": "stream",
     "text": [
      "[1. 1. 1. 1. 1.]\n",
      "[1. 1. 1. 1. 1.]\n",
      "[[1. 1. 1.]\n",
      " [1. 1. 1.]\n",
      " [1. 1. 1.]\n",
      " [1. 1. 1.]\n",
      " [1. 1. 1.]]\n",
      "[[1. 1. 1.]\n",
      " [1. 1. 1.]\n",
      " [1. 1. 1.]\n",
      " [1. 1. 1.]\n",
      " [1. 1. 1.]]\n",
      "[[1 1 1]\n",
      " [1 1 1]\n",
      " [1 1 1]\n",
      " [1 1 1]\n",
      " [1 1 1]]\n"
     ]
    }
   ],
   "source": [
    "o = np.ones((5,))    # np.ones(shape) - Unit Array & default dtype = float\n",
    "print(o)\n",
    "\n",
    "o1 = np.ones(5)      \n",
    "print(o1)\n",
    "\n",
    "o2 = np.ones((5,3))\n",
    "print(o2)\n",
    "\n",
    "o3 = np.ones((5,3), dtype = float)\n",
    "print(o3)\n",
    "\n",
    "o4 = np.ones((5,3), dtype = int)  # dtype changed to int\n",
    "print(o4)\n"
   ]
  },
  {
   "cell_type": "code",
   "execution_count": 19,
   "metadata": {},
   "outputs": [
    {
     "data": {
      "text/plain": [
       "array([[0., 0., 0., 0.],\n",
       "       [0., 0., 0., 0.],\n",
       "       [0., 0., 0., 0.]])"
      ]
     },
     "execution_count": 19,
     "metadata": {},
     "output_type": "execute_result"
    }
   ],
   "source": [
    "np.zeros((3,4))       # # np.zeros(shape) - null matrix"
   ]
  },
  {
   "cell_type": "markdown",
   "metadata": {},
   "source": [
    "#### random distribution"
   ]
  },
  {
   "cell_type": "code",
   "execution_count": 20,
   "metadata": {},
   "outputs": [
    {
     "data": {
      "text/plain": [
       "array([30, 66,  2, 20, 85, 78, 41, 19])"
      ]
     },
     "execution_count": 20,
     "metadata": {},
     "output_type": "execute_result"
    }
   ],
   "source": [
    "import numpy as np\n",
    "np.random.randint(0,100,8)  # .randint(StartFrom, EndTo, Count) - Select 8 integers from 0 to 100"
   ]
  },
  {
   "cell_type": "code",
   "execution_count": 21,
   "metadata": {},
   "outputs": [
    {
     "data": {
      "text/plain": [
       "array([[0.87376009, 0.02019456, 0.01125572],\n",
       "       [0.16584559, 0.27044781, 0.89943136]])"
      ]
     },
     "execution_count": 21,
     "metadata": {},
     "output_type": "execute_result"
    }
   ],
   "source": [
    "import numpy as np\n",
    "np.random.random_sample((2,3))  # (rows,columns) - values b/w 0 to 1"
   ]
  },
  {
   "cell_type": "code",
   "execution_count": 22,
   "metadata": {},
   "outputs": [
    {
     "data": {
      "text/plain": [
       "array([[0.87467237, 0.60476574, 0.91944715],\n",
       "       [0.3933633 , 0.75219468, 0.8789988 ]])"
      ]
     },
     "execution_count": 22,
     "metadata": {},
     "output_type": "execute_result"
    }
   ],
   "source": [
    "import numpy as np\n",
    "np.random.rand(2,3)           # uniform distribution (rows,columns)- values b/w 0 to 1 "
   ]
  },
  {
   "cell_type": "code",
   "execution_count": 23,
   "metadata": {},
   "outputs": [
    {
     "data": {
      "text/plain": [
       "array([[ 0.2479379 ,  1.11493722, -0.0489637 ],\n",
       "       [-0.69420902,  0.11905518, -0.92169828]])"
      ]
     },
     "execution_count": 23,
     "metadata": {},
     "output_type": "execute_result"
    }
   ],
   "source": [
    "import numpy as np\n",
    "rn = np.random.randn(2,3)    # standard normal distribution (rows,columns) - Bell Curve\n",
    "rn"
   ]
  },
  {
   "cell_type": "code",
   "execution_count": 24,
   "metadata": {},
   "outputs": [
    {
     "name": "stdout",
     "output_type": "stream",
     "text": [
      "[[ 0.21757623 -0.2966928  -1.03386048 -0.80123653]\n",
      " [-1.47691157  1.69080889  0.52014005  0.05560483]\n",
      " [-0.08275068 -0.26798039  0.67847692 -0.1907747 ]\n",
      " [ 0.53395672 -0.12811675  0.84088522  0.35212252]]\n"
     ]
    },
    {
     "data": {
      "text/plain": [
       "<matplotlib.axes._subplots.AxesSubplot at 0xc8f12fbd48>"
      ]
     },
     "execution_count": 24,
     "metadata": {},
     "output_type": "execute_result"
    },
    {
     "data": {
      "image/png": "[encoded data removed]",
      "text/plain": [
       "<Figure size 432x288 with 1 Axes>"
      ]
     },
     "metadata": {
      "needs_background": "light"
     },
     "output_type": "display_data"
    }
   ],
   "source": [
    "import seaborn as sns\n",
    "import pandas as pd\n",
    "import numpy as np\n",
    "\n",
    "rdn = np.random.randn(4,4)                         \n",
    "print(rdn)\n",
    "\n",
    "\n",
    "sns.distplot(pd.DataFrame(rdn.reshape(16,1)))"
   ]
  },
  {
   "cell_type": "code",
   "execution_count": null,
   "metadata": {},
   "outputs": [],
   "source": []
  },
  {
   "cell_type": "markdown",
   "metadata": {},
   "source": [
    "#### Methods can be applied on an Array:\n",
    "\n",
    "all()\n",
    "\n",
    "any()\n",
    "\n",
    "take()\n",
    "\n",
    "put()\n",
    "\n",
    "apply_along_axis()\n",
    "\n",
    "apply_over_axes()\n",
    "\n",
    "argmin()\n",
    "\n",
    "argmax()\n",
    "\n",
    "nanargmin()\n",
    "\n",
    "nanargmax()\n",
    "\n",
    "amax()\n",
    "\n",
    "amin()\n",
    "\n",
    "insert()\n",
    "\n",
    "delete()\n",
    "\n",
    "append()\n",
    "\n",
    "around()\n",
    "\n",
    "flip()\n",
    "\n",
    "fliplr()\n",
    "\n",
    "flipud()\n",
    "\n",
    "triu()\n",
    "\n",
    "tril()\n",
    "\n",
    "tri()\n",
    "\n",
    "empty()\n",
    "\n",
    "empty_like()\n",
    "\n",
    "zeros()\n",
    "\n",
    "zeros_like()\n",
    "\n",
    "ones()\n",
    "\n",
    "ones_like()\n",
    "\n",
    "full_like()\n",
    "\n",
    "diag()\n",
    "\n",
    "diagflat()\n",
    "\n",
    "diag_indices()\n",
    "\n",
    "asmatrix()\n",
    "\n",
    "bmat()\n",
    "\n",
    "eye()\n",
    "\n",
    "roll()\n",
    "\n",
    "identity()\n",
    "\n",
    "arange()\n",
    "\n",
    "place()\n",
    "\n",
    "extract()\n",
    "\n",
    "compress()\n",
    "\n",
    "rot90()\n",
    "\n",
    "tile()\n",
    "\n",
    "reshape()\n",
    "\n",
    "ravel()\n",
    "\n",
    "isinf()\n",
    "\n",
    "isrealobj()\n",
    "\n",
    "isscalar()\n",
    "\n",
    "isneginf()\n",
    "\n",
    "isposinf()\n",
    "\n",
    "iscomplex()\n",
    "\n",
    "isnan()\n",
    "\n",
    "iscomplexobj()\n",
    "\n",
    "isreal()\n",
    "\n",
    "isfinite()\n",
    "\n",
    "isfortran()\n",
    "\n",
    "exp()\n",
    "\n",
    "exp2()\n",
    "\n",
    "fix()\n",
    "\n",
    "hypot()\n",
    "\n",
    "absolute()\n",
    "\n",
    "ceil()\n",
    "\n",
    "floor()\n",
    "\n",
    "degrees()\n",
    "\n",
    "radians()\n",
    "\n",
    "npv()\n",
    "\n",
    "fv()\n",
    "\n",
    "pv()\n",
    "\n",
    "power()\n",
    "\n",
    "float_power()\n",
    "\n",
    "log()\n",
    "\n",
    "log1()\n",
    "\n",
    "log2()\n",
    "\n",
    "log10()\n",
    "\n",
    "dot()\n",
    "\n",
    "vdot()\n",
    "\n",
    "trunc()\n",
    "\n",
    "divide()\n",
    "\n",
    "floor_divide()\n",
    "\n",
    "true_divide()\n",
    "\n",
    "random.rand()\n",
    "\n",
    "random.randn()\n",
    "\n",
    "ndarray.flat()\n",
    "\n",
    "expm1()\n",
    "\n",
    "bincount()\n",
    "\n",
    "rint()\n",
    "\n",
    "equal()\n",
    "\n",
    "not_equal()\n",
    "\n",
    "less()\n",
    "\n",
    "less_equal()\n",
    "\n",
    "greater()\n",
    "\n",
    "greater_equal()\n",
    "\n",
    "prod()\n",
    "\n",
    "square()\n",
    "\n",
    "cbrt()\n",
    "\n",
    "logical_or()\n",
    "\n",
    "logical_and()\n",
    "\n",
    "logical_not()\n",
    "\n",
    "logical_xor()\n",
    "\n",
    "array_equal()\n",
    "\n",
    "array_equiv()\n",
    "\n",
    "sin()\n",
    "\n",
    "cos()\n",
    "\n",
    "tan()\n",
    "\n",
    "sinh()\n",
    "\n",
    "cosh()\n",
    "\n",
    "tanh()\n",
    "\n",
    "arcsin()\n",
    "\n",
    "arccos()\n",
    "\n",
    "arctan()\n",
    "\n",
    "arctan2()\n",
    "    ....................."
   ]
  },
  {
   "cell_type": "code",
   "execution_count": 25,
   "metadata": {},
   "outputs": [
    {
     "data": {
      "text/plain": [
       "'Different Types of functions\\narr.ndim\\narr.max()\\narr.sort() : Sorted and Stored in same array\\nnp.sin(arr)\\nnp.linspace(start, end, count)\\nnp.ones(shape)'"
      ]
     },
     "execution_count": 25,
     "metadata": {},
     "output_type": "execute_result"
    }
   ],
   "source": [
    "# Doubts\n",
    "\"\"\"Different Types of functions\n",
    "arr.ndim\n",
    "arr.max()\n",
    "arr.sort() : Sorted and Stored in same array\n",
    "np.sin(arr)\n",
    "np.linspace(start, end, count)\n",
    "np.ones(shape)\"\"\""
   ]
  },
  {
   "cell_type": "code",
   "execution_count": null,
   "metadata": {},
   "outputs": [],
   "source": []
  }
 ],
 "metadata": {
  "kernelspec": {
   "display_name": "Python 3",
   "language": "python",
   "name": "python3"
  },
  "language_info": {
   "codemirror_mode": {
    "name": "ipython",
    "version": 3
   },
   "file_extension": ".py",
   "mimetype": "text/x-python",
   "name": "python",
   "nbconvert_exporter": "python",
   "pygments_lexer": "ipython3",
   "version": "3.7.6"
  }
 },
 "nbformat": 4,
 "nbformat_minor": 4
}
