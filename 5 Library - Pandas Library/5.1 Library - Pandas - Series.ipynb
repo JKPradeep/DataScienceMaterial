{
 "cells": [
  {
   "cell_type": "markdown",
   "metadata": {},
   "source": [
    "# Pandas \n",
    "- Get more Information related to Pandas.. Google - Pandas Documentation https://pandas.pydata.org/docs/ - \n",
    "1. Series\n",
    "2. DataFrames\n",
    "3. Read and Convert Data into different file formats (.excel, .csv..)\n",
    "4. Data Manipulation"
   ]
  },
  {
   "cell_type": "markdown",
   "metadata": {},
   "source": [
    "## Pandas - Series\n",
    "- Series is a one-dimensional labelled array capable of holding data of any type (integer, string, float, python objects, etc.)\n",
    "- Note: *Simply, Series will have One Column and Many rows\n",
    "- The axis labels collectively called as 'Index'\n",
    "- A series can be created using various inputs like \n",
    "  * *1. Array  *2.Dictionary.."
   ]
  },
  {
   "cell_type": "code",
   "execution_count": 1,
   "metadata": {},
   "outputs": [],
   "source": [
    "import pandas as pd"
   ]
  },
  {
   "cell_type": "markdown",
   "metadata": {},
   "source": [
    "### Series - Array"
   ]
  },
  {
   "cell_type": "markdown",
   "metadata": {},
   "source": [
    "#### Create Empty Series using Array"
   ]
  },
  {
   "cell_type": "code",
   "execution_count": 2,
   "metadata": {},
   "outputs": [
    {
     "data": {
      "text/plain": [
       "numpy.ndarray"
      ]
     },
     "execution_count": 2,
     "metadata": {},
     "output_type": "execute_result"
    }
   ],
   "source": [
    "import numpy as np\n",
    "dataEmp = np.array([])\n",
    "type(dataEmp)"
   ]
  },
  {
   "cell_type": "code",
   "execution_count": 3,
   "metadata": {},
   "outputs": [
    {
     "name": "stdout",
     "output_type": "stream",
     "text": [
      "<class 'pandas.core.series.Series'>\n"
     ]
    },
    {
     "name": "stderr",
     "output_type": "stream",
     "text": [
      "C:\\Users\\DELL\\anaconda3\\lib\\site-packages\\ipykernel_launcher.py:1: DeprecationWarning: The default dtype for empty Series will be 'object' instead of 'float64' in a future version. Specify a dtype explicitly to silence this warning.\n",
      "  \"\"\"Entry point for launching an IPython kernel.\n"
     ]
    },
    {
     "data": {
      "text/plain": [
       "Series([], dtype: float64)"
      ]
     },
     "execution_count": 3,
     "metadata": {},
     "output_type": "execute_result"
    }
   ],
   "source": [
    "empSer = pd.Series()\n",
    "print(type(empSer))\n",
    "empSer"
   ]
  },
  {
   "cell_type": "markdown",
   "metadata": {},
   "source": [
    "#### Create Series using Array with default Index"
   ]
  },
  {
   "cell_type": "code",
   "execution_count": 4,
   "metadata": {},
   "outputs": [
    {
     "name": "stdout",
     "output_type": "stream",
     "text": [
      "<class 'numpy.ndarray'>\n"
     ]
    },
    {
     "data": {
      "text/plain": [
       "array(['1', 'Pradep', '3', '5.3'], dtype='<U11')"
      ]
     },
     "execution_count": 4,
     "metadata": {},
     "output_type": "execute_result"
    }
   ],
   "source": [
    "import numpy as np\n",
    "dataArr1 = np.array([1,'Pradep',3,5.3])\n",
    "print(type(dataArr1))\n",
    "dataArr1"
   ]
  },
  {
   "cell_type": "code",
   "execution_count": 5,
   "metadata": {},
   "outputs": [
    {
     "name": "stdout",
     "output_type": "stream",
     "text": [
      "<class 'pandas.core.series.Series'>\n"
     ]
    },
    {
     "data": {
      "text/plain": [
       "0         1\n",
       "1    Pradep\n",
       "2         3\n",
       "3       5.3\n",
       "dtype: object"
      ]
     },
     "execution_count": 5,
     "metadata": {},
     "output_type": "execute_result"
    }
   ],
   "source": [
    "Ser1 = pd.Series(dataArr1)\n",
    "print(type(Ser1))\n",
    "Ser1"
   ]
  },
  {
   "cell_type": "markdown",
   "metadata": {},
   "source": [
    "#### Create Series using Array with User defined Index"
   ]
  },
  {
   "cell_type": "code",
   "execution_count": 6,
   "metadata": {
    "scrolled": true
   },
   "outputs": [
    {
     "name": "stdout",
     "output_type": "stream",
     "text": [
      "<class 'pandas.core.series.Series'>\n"
     ]
    },
    {
     "data": {
      "text/plain": [
       "101         1\n",
       "102    Pradep\n",
       "103         3\n",
       "104       5.3\n",
       "dtype: object"
      ]
     },
     "execution_count": 6,
     "metadata": {},
     "output_type": "execute_result"
    }
   ],
   "source": [
    "Ser2 = pd.Series(dataArr1, index = [101, 102, 103, 104])\n",
    "print(type(Ser2))\n",
    "Ser2"
   ]
  },
  {
   "cell_type": "markdown",
   "metadata": {},
   "source": [
    "### Series - Dictionary"
   ]
  },
  {
   "cell_type": "markdown",
   "metadata": {},
   "source": [
    "#### Create Series using Dictionary"
   ]
  },
  {
   "cell_type": "code",
   "execution_count": 7,
   "metadata": {
    "scrolled": true
   },
   "outputs": [
    {
     "name": "stdout",
     "output_type": "stream",
     "text": [
      "<class 'dict'>\n"
     ]
    },
    {
     "data": {
      "text/plain": [
       "{'a': 0.1, 'b': [1, 'Pradep', 2.4, 'A87s5'], 'C': 2.0}"
      ]
     },
     "execution_count": 7,
     "metadata": {},
     "output_type": "execute_result"
    }
   ],
   "source": [
    "dataDic1 = {'a':0.1, 'b':[1,'Pradep',2.4,'A87s5'], 'C': 2.}\n",
    "print(type(dataDic1))\n",
    "dataDic1"
   ]
  },
  {
   "cell_type": "code",
   "execution_count": 8,
   "metadata": {
    "scrolled": true
   },
   "outputs": [
    {
     "name": "stdout",
     "output_type": "stream",
     "text": [
      "<class 'pandas.core.series.Series'>\n"
     ]
    },
    {
     "data": {
      "text/plain": [
       "a                        0.1\n",
       "b    [1, Pradep, 2.4, A87s5]\n",
       "C                          2\n",
       "dtype: object"
      ]
     },
     "execution_count": 8,
     "metadata": {},
     "output_type": "execute_result"
    }
   ],
   "source": [
    "Ser3 = pd.Series(dataDic1)   # Index name as a,b,C.. Series is ManyRows and 1 Column\n",
    "print(type(Ser3))\n",
    "Ser3"
   ]
  },
  {
   "cell_type": "code",
   "execution_count": 10,
   "metadata": {},
   "outputs": [
    {
     "name": "stdout",
     "output_type": "stream",
     "text": [
      "<class 'str'>\n",
      "<class 'str'>\n",
      "<class 'str'>\n"
     ]
    }
   ],
   "source": [
    "print(type('a'))  # Same datatype\n",
    "print(type('b'))\n",
    "print(type('c'))"
   ]
  },
  {
   "cell_type": "markdown",
   "metadata": {},
   "source": [
    "#### Create Series using Dictionary with Unordered Index"
   ]
  },
  {
   "cell_type": "code",
   "execution_count": 11,
   "metadata": {
    "scrolled": true
   },
   "outputs": [
    {
     "name": "stdout",
     "output_type": "stream",
     "text": [
      "<class 'pandas.core.series.Series'>\n"
     ]
    },
    {
     "data": {
      "text/plain": [
       "d                        NaN\n",
       "b    [1, Pradep, 2.4, A87s5]\n",
       "e                        NaN\n",
       "a                        0.1\n",
       "c                        NaN\n",
       "C                          2\n",
       "dtype: object"
      ]
     },
     "execution_count": 11,
     "metadata": {},
     "output_type": "execute_result"
    }
   ],
   "source": [
    "Ser4 = pd.Series(dataDic1, index = ['d','b','e','a','c','C'])\n",
    "print(type(Ser4))\n",
    "Ser4"
   ]
  },
  {
   "cell_type": "markdown",
   "metadata": {},
   "source": [
    "#### Create Series using Dictionary with One key as Numeric"
   ]
  },
  {
   "cell_type": "code",
   "execution_count": 12,
   "metadata": {},
   "outputs": [
    {
     "name": "stdout",
     "output_type": "stream",
     "text": [
      "<class 'dict'>\n"
     ]
    },
    {
     "data": {
      "text/plain": [
       "{'a': 0.1, 'b': [1, 'Pradep', 2.4, 'A87s5'], 'C': 2.0, 5: 18}"
      ]
     },
     "execution_count": 12,
     "metadata": {},
     "output_type": "execute_result"
    }
   ],
   "source": [
    "dataDic2 = {'a':0.1, 'b':[1,'Pradep',2.4,'A87s5'], 'C': 2., 5: 18}\n",
    "print(type(dataDic2))\n",
    "dataDic2"
   ]
  },
  {
   "cell_type": "code",
   "execution_count": 13,
   "metadata": {},
   "outputs": [
    {
     "name": "stdout",
     "output_type": "stream",
     "text": [
      "<class 'pandas.core.series.Series'>\n"
     ]
    },
    {
     "data": {
      "text/plain": [
       "a                        0.1\n",
       "b    [1, Pradep, 2.4, A87s5]\n",
       "C                          2\n",
       "5                         18\n",
       "dtype: object"
      ]
     },
     "execution_count": 13,
     "metadata": {},
     "output_type": "execute_result"
    }
   ],
   "source": [
    "Ser5 = pd.Series(dataDic2)\n",
    "print(type(Ser5))\n",
    "Ser5"
   ]
  },
  {
   "cell_type": "markdown",
   "metadata": {},
   "source": [
    "### Calling Series Data using Index"
   ]
  },
  {
   "cell_type": "code",
   "execution_count": 14,
   "metadata": {
    "scrolled": true
   },
   "outputs": [
    {
     "name": "stdout",
     "output_type": "stream",
     "text": [
      "Ser1\n",
      "0         1\n",
      "1    Pradep\n",
      "2         3\n",
      "3       5.3\n",
      "dtype: object\n",
      "\n",
      "Ser2\n",
      "101         1\n",
      "102    Pradep\n",
      "103         3\n",
      "104       5.3\n",
      "dtype: object\n",
      "\n",
      "Ser3\n",
      "a                        0.1\n",
      "b    [1, Pradep, 2.4, A87s5]\n",
      "C                          2\n",
      "dtype: object\n",
      "\n",
      "Ser4\n",
      "d                        NaN\n",
      "b    [1, Pradep, 2.4, A87s5]\n",
      "e                        NaN\n",
      "a                        0.1\n",
      "c                        NaN\n",
      "C                          2\n",
      "dtype: object\n",
      "\n",
      "Ser5\n",
      "a                        0.1\n",
      "b    [1, Pradep, 2.4, A87s5]\n",
      "C                          2\n",
      "5                         18\n",
      "dtype: object\n",
      "\n"
     ]
    }
   ],
   "source": [
    "print(\"Ser1\")\n",
    "print(Ser1)\n",
    "print(\"\")\n",
    "print(\"Ser2\")\n",
    "print(Ser2)\n",
    "print(\"\")\n",
    "print(\"Ser3\")\n",
    "print(Ser3)\n",
    "print(\"\")\n",
    "print(\"Ser4\")\n",
    "print(Ser4)\n",
    "print(\"\")\n",
    "print(\"Ser5\")\n",
    "print(Ser5)\n",
    "print(\"\")"
   ]
  },
  {
   "cell_type": "markdown",
   "metadata": {},
   "source": [
    "#### Calling 1st Index Element in Series\n",
    "- when all Index are Pure Alphabetic. We can retrieve as Ser['alphabetic'] (or) Ser[Index No.]"
   ]
  },
  {
   "cell_type": "code",
   "execution_count": 39,
   "metadata": {
    "scrolled": true
   },
   "outputs": [
    {
     "name": "stdout",
     "output_type": "stream",
     "text": [
      "Pradep\n",
      "Pradep\n",
      "[1, 'Pradep', 2.4, 'A87s5']\n",
      "[1, 'Pradep', 2.4, 'A87s5']\n",
      "[1, 'Pradep', 2.4, 'A87s5']\n",
      "[1, 'Pradep', 2.4, 'A87s5']\n",
      "[1, 'Pradep', 2.4, 'A87s5']\n"
     ]
    }
   ],
   "source": [
    "print(Ser1[1])    \n",
    "# print(Ser2[1])  - All Indexes are Numerical .. Can retrieve according to IndexValue Only.\n",
    "print(Ser2[102])\n",
    "print(Ser3[1])    # All Indexes are Pure Alphabetic .. Can retrieve according to both IndexValue or IndexPosition\n",
    "print(Ser3['b'])\n",
    "print(Ser4[1])  \n",
    "print(Ser4['b'])\n",
    "# print(Ser5[1])  - All Indexes are AphaNumerical .. Can retrieve according to IndexValue Only.\n",
    "print(Ser5['b'])"
   ]
  },
  {
   "cell_type": "markdown",
   "metadata": {},
   "source": [
    "#### Calling last Index Element (Negative Index) in Series"
   ]
  },
  {
   "cell_type": "code",
   "execution_count": 16,
   "metadata": {},
   "outputs": [
    {
     "name": "stdout",
     "output_type": "stream",
     "text": [
      "2.0\n"
     ]
    }
   ],
   "source": [
    "# print(Ser1[-1])  # Index -  Numeric - Not possible\n",
    "print(Ser4[-1])    # Index -  Pure Aplhabetic - possible   -  Negative Index Possible When Index is Pure Aplhabetic\n",
    "# print(Ser5[-1])  # Index -  Aplha Numeric - Not possible"
   ]
  },
  {
   "cell_type": "markdown",
   "metadata": {},
   "source": [
    "#### Calling Series elements using Slicing Operator"
   ]
  },
  {
   "cell_type": "code",
   "execution_count": 17,
   "metadata": {},
   "outputs": [
    {
     "data": {
      "text/plain": [
       "1    Pradep\n",
       "2         3\n",
       "3       5.3\n",
       "dtype: object"
      ]
     },
     "execution_count": 17,
     "metadata": {},
     "output_type": "execute_result"
    }
   ],
   "source": [
    "Ser1[1:]"
   ]
  },
  {
   "cell_type": "code",
   "execution_count": 18,
   "metadata": {},
   "outputs": [
    {
     "data": {
      "text/plain": [
       "102    Pradep\n",
       "103         3\n",
       "104       5.3\n",
       "dtype: object"
      ]
     },
     "execution_count": 18,
     "metadata": {},
     "output_type": "execute_result"
    }
   ],
   "source": [
    "Ser2[1:]"
   ]
  },
  {
   "cell_type": "code",
   "execution_count": 19,
   "metadata": {},
   "outputs": [
    {
     "data": {
      "text/plain": [
       "b    [1, Pradep, 2.4, A87s5]\n",
       "C                          2\n",
       "dtype: object"
      ]
     },
     "execution_count": 19,
     "metadata": {},
     "output_type": "execute_result"
    }
   ],
   "source": [
    "Ser3[1:]"
   ]
  },
  {
   "cell_type": "code",
   "execution_count": 20,
   "metadata": {},
   "outputs": [
    {
     "data": {
      "text/plain": [
       "b    [1, Pradep, 2.4, A87s5]\n",
       "e                        NaN\n",
       "a                        0.1\n",
       "c                        NaN\n",
       "C                          2\n",
       "dtype: object"
      ]
     },
     "execution_count": 20,
     "metadata": {},
     "output_type": "execute_result"
    }
   ],
   "source": [
    "Ser4[1:]"
   ]
  },
  {
   "cell_type": "code",
   "execution_count": 21,
   "metadata": {},
   "outputs": [
    {
     "data": {
      "text/plain": [
       "0         1\n",
       "1    Pradep\n",
       "2         3\n",
       "dtype: object"
      ]
     },
     "execution_count": 21,
     "metadata": {},
     "output_type": "execute_result"
    }
   ],
   "source": [
    "Ser1[:3]"
   ]
  },
  {
   "cell_type": "code",
   "execution_count": 22,
   "metadata": {},
   "outputs": [
    {
     "data": {
      "text/plain": [
       "101         1\n",
       "102    Pradep\n",
       "103         3\n",
       "dtype: object"
      ]
     },
     "execution_count": 22,
     "metadata": {},
     "output_type": "execute_result"
    }
   ],
   "source": [
    "Ser2[:3]"
   ]
  },
  {
   "cell_type": "code",
   "execution_count": 23,
   "metadata": {},
   "outputs": [
    {
     "data": {
      "text/plain": [
       "a                        0.1\n",
       "b    [1, Pradep, 2.4, A87s5]\n",
       "C                          2\n",
       "dtype: object"
      ]
     },
     "execution_count": 23,
     "metadata": {},
     "output_type": "execute_result"
    }
   ],
   "source": [
    "Ser3[:3]"
   ]
  },
  {
   "cell_type": "code",
   "execution_count": 24,
   "metadata": {},
   "outputs": [
    {
     "data": {
      "text/plain": [
       "d                        NaN\n",
       "b    [1, Pradep, 2.4, A87s5]\n",
       "e                        NaN\n",
       "dtype: object"
      ]
     },
     "execution_count": 24,
     "metadata": {},
     "output_type": "execute_result"
    }
   ],
   "source": [
    "Ser4[:3]"
   ]
  },
  {
   "cell_type": "code",
   "execution_count": 25,
   "metadata": {},
   "outputs": [
    {
     "data": {
      "text/plain": [
       "0         1\n",
       "1    Pradep\n",
       "2         3\n",
       "dtype: object"
      ]
     },
     "execution_count": 25,
     "metadata": {},
     "output_type": "execute_result"
    }
   ],
   "source": [
    "Ser1[:-1]"
   ]
  },
  {
   "cell_type": "code",
   "execution_count": 26,
   "metadata": {},
   "outputs": [
    {
     "data": {
      "text/plain": [
       "101         1\n",
       "102    Pradep\n",
       "103         3\n",
       "dtype: object"
      ]
     },
     "execution_count": 26,
     "metadata": {},
     "output_type": "execute_result"
    }
   ],
   "source": [
    "Ser2[:-1]"
   ]
  },
  {
   "cell_type": "code",
   "execution_count": 27,
   "metadata": {},
   "outputs": [
    {
     "data": {
      "text/plain": [
       "a                        0.1\n",
       "b    [1, Pradep, 2.4, A87s5]\n",
       "dtype: object"
      ]
     },
     "execution_count": 27,
     "metadata": {},
     "output_type": "execute_result"
    }
   ],
   "source": [
    "Ser3[:-1]"
   ]
  },
  {
   "cell_type": "code",
   "execution_count": 28,
   "metadata": {},
   "outputs": [
    {
     "data": {
      "text/plain": [
       "d                        NaN\n",
       "b    [1, Pradep, 2.4, A87s5]\n",
       "e                        NaN\n",
       "a                        0.1\n",
       "c                        NaN\n",
       "dtype: object"
      ]
     },
     "execution_count": 28,
     "metadata": {},
     "output_type": "execute_result"
    }
   ],
   "source": [
    "Ser4[:-1]"
   ]
  },
  {
   "cell_type": "markdown",
   "metadata": {},
   "source": [
    "### Calling Series Data using Labels (Index Name)"
   ]
  },
  {
   "cell_type": "code",
   "execution_count": 29,
   "metadata": {},
   "outputs": [
    {
     "name": "stdout",
     "output_type": "stream",
     "text": [
      "Ser1\n",
      "0         1\n",
      "1    Pradep\n",
      "2         3\n",
      "3       5.3\n",
      "dtype: object\n",
      "\n",
      "Ser2\n",
      "101         1\n",
      "102    Pradep\n",
      "103         3\n",
      "104       5.3\n",
      "dtype: object\n",
      "\n",
      "Ser3\n",
      "a                        0.1\n",
      "b    [1, Pradep, 2.4, A87s5]\n",
      "C                          2\n",
      "dtype: object\n",
      "\n",
      "Ser4\n",
      "d                        NaN\n",
      "b    [1, Pradep, 2.4, A87s5]\n",
      "e                        NaN\n",
      "a                        0.1\n",
      "c                        NaN\n",
      "C                          2\n",
      "dtype: object\n",
      "\n"
     ]
    }
   ],
   "source": [
    "print(\"Ser1\")\n",
    "print(Ser1)\n",
    "print(\"\")\n",
    "print(\"Ser2\")\n",
    "print(Ser2)\n",
    "print(\"\")\n",
    "print(\"Ser3\")\n",
    "print(Ser3)\n",
    "print(\"\")\n",
    "print(\"Ser4\")\n",
    "print(Ser4)\n",
    "print(\"\")"
   ]
  },
  {
   "cell_type": "code",
   "execution_count": 30,
   "metadata": {},
   "outputs": [
    {
     "name": "stdout",
     "output_type": "stream",
     "text": [
      "5.3\n",
      "[1, 'Pradep', 2.4, 'A87s5']\n",
      "\n",
      "b    [1, Pradep, 2.4, A87s5]\n",
      "e                        NaN\n",
      "a                        0.1\n",
      "C                          2\n",
      "dtype: object\n"
     ]
    }
   ],
   "source": [
    "print(Ser2[104])                # Calling Single Label Value []\n",
    "print(Ser3['b'])\n",
    "print(\"\")\n",
    "print(Ser4[['b','e','a','C']])  # Calling many Label Values at a time [[]]"
   ]
  },
  {
   "cell_type": "markdown",
   "metadata": {},
   "source": [
    "### Index as AlphaNumeric"
   ]
  },
  {
   "cell_type": "code",
   "execution_count": 31,
   "metadata": {},
   "outputs": [
    {
     "data": {
      "text/plain": [
       "a    10\n",
       "b    13\n",
       "e    17\n",
       "d    18\n",
       "dtype: int64"
      ]
     },
     "execution_count": 31,
     "metadata": {},
     "output_type": "execute_result"
    }
   ],
   "source": [
    "s1 = pd.Series([10,13,17,18], index=['a','b','e','d'])   # Index as Pure Alphabetic\n",
    "s1"
   ]
  },
  {
   "cell_type": "code",
   "execution_count": 32,
   "metadata": {},
   "outputs": [
    {
     "name": "stdout",
     "output_type": "stream",
     "text": [
      "10\n",
      "17\n",
      "a    10\n",
      "d    18\n",
      "e    17\n",
      "dtype: int64\n",
      "18\n"
     ]
    }
   ],
   "source": [
    "print(s1['a'])\n",
    "print(s1['e'])\n",
    "print(s1[['a','d','e']])\n",
    "print(s1[-1])                    # Negative Index Possible When Index is Pure Aplhabetic"
   ]
  },
  {
   "cell_type": "code",
   "execution_count": 33,
   "metadata": {},
   "outputs": [
    {
     "data": {
      "text/plain": [
       "a    10\n",
       "b    13\n",
       "5    17\n",
       "d    18\n",
       "dtype: int64"
      ]
     },
     "execution_count": 33,
     "metadata": {},
     "output_type": "execute_result"
    }
   ],
   "source": [
    "s2 = pd.Series([10,13,17,18], index=['a','b',5,'d'])   # Index as Alpha Numeric\n",
    "s2"
   ]
  },
  {
   "cell_type": "code",
   "execution_count": 34,
   "metadata": {},
   "outputs": [
    {
     "name": "stdout",
     "output_type": "stream",
     "text": [
      "10\n",
      "17\n",
      "a    10\n",
      "d    18\n",
      "5    17\n",
      "dtype: int64\n"
     ]
    }
   ],
   "source": [
    "print(s2['a'])\n",
    "print(s2[5])\n",
    "print(s2[['a','d',5]])"
   ]
  },
  {
   "cell_type": "code",
   "execution_count": 35,
   "metadata": {},
   "outputs": [],
   "source": [
    "# print(s2[-1])         # Here Negative Index Not Possible bcz Index is Alpha Numeric"
   ]
  },
  {
   "cell_type": "code",
   "execution_count": null,
   "metadata": {},
   "outputs": [],
   "source": []
  },
  {
   "cell_type": "code",
   "execution_count": null,
   "metadata": {},
   "outputs": [],
   "source": []
  }
 ],
 "metadata": {
  "kernelspec": {
   "display_name": "Python 3",
   "language": "python",
   "name": "python3"
  },
  "language_info": {
   "codemirror_mode": {
    "name": "ipython",
    "version": 3
   },
   "file_extension": ".py",
   "mimetype": "text/x-python",
   "name": "python",
   "nbconvert_exporter": "python",
   "pygments_lexer": "ipython3",
   "version": "3.7.6"
  }
 },
 "nbformat": 4,
 "nbformat_minor": 4
}
